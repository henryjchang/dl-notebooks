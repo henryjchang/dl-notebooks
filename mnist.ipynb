{
  "nbformat": 4,
  "nbformat_minor": 0,
  "metadata": {
    "colab": {
      "provenance": [],
      "collapsed_sections": [
        "pUMQ1fOhs5sq",
        "TPzKbpaS2V2e",
        "es1VxERz-h3p"
      ],
      "authorship_tag": "ABX9TyNtpKzbZUeYlL5yU/ffH2yP",
      "include_colab_link": true
    },
    "kernelspec": {
      "name": "python3",
      "display_name": "Python 3"
    },
    "language_info": {
      "name": "python"
    }
  },
  "cells": [
    {
      "cell_type": "markdown",
      "metadata": {
        "id": "view-in-github",
        "colab_type": "text"
      },
      "source": [
        "<a href=\"https://colab.research.google.com/github/henryjchang/dl-notebooks/blob/main/mnist.ipynb\" target=\"_parent\"><img src=\"https://colab.research.google.com/assets/colab-badge.svg\" alt=\"Open In Colab\"/></a>"
      ]
    },
    {
      "cell_type": "markdown",
      "source": [
        "# Getting Hands On with ML: Achieving >99% classifcation accuracy on MNIST\n",
        "\n",
        "\n"
      ],
      "metadata": {
        "id": "gx-QRyO37BNx"
      }
    },
    {
      "cell_type": "markdown",
      "source": [
        "One of the most commonly used datasets in ML research has been the MNIST dataset. It's a small dataset containing 60,000 28x28 greyscale images of handwritten digits and their labels, with 10 distinct classes for the digits from 0-9. It's often used as a \"Hello World\" example for machine learning. In this notebook, we'll use it as such.\n",
        "\n",
        "We go from doing some exploratory data analysis, through fully-connected models, up to training our first CNN model and achieving >99% classification accuracy on the dataset. Along the way, we write our own Learner class from scratch and use it to group together model, loss, optimizer, training and validation datasets.\n",
        "\n",
        "This work was inspired by [this notebook](https://github.com/fastai/fastbook/blob/master/04_mnist_basics.ipynb) from the Fast.ai course, Practical Deep Learning for Coders."
      ],
      "metadata": {
        "id": "vbsTkCrdYAyo"
      }
    },
    {
      "cell_type": "markdown",
      "source": [
        "### Import torchvision MNIST"
      ],
      "metadata": {
        "id": "pUMQ1fOhs5sq"
      }
    },
    {
      "cell_type": "markdown",
      "source": [
        "We download the MNIST dataset from torchvision. As part of the download, we can specify any transformations to make to the data inputs or to the data labels. Here, we only transform the data inputs. To be able to properly do machine learning with images, we need to turn them from PIL images to PyTorch Tensors. We download two copies of the dataset, one with 2D tensors, and one with each image flattened into 1D tensors. We also leave the test set alone and split a validation set out of the training set for evaluation during training."
      ],
      "metadata": {
        "id": "eJgyXonkgBhD"
      }
    },
    {
      "cell_type": "code",
      "source": [
        "import torchvision.transforms as T\n",
        "from torchvision.datasets import MNIST\n",
        "from torch.utils.data import Subset, DataLoader\n",
        "import torch\n",
        "\n",
        "train_dataset = MNIST(root='mnist', train=True, download=True, transform=T.ToTensor())\n",
        "test_dataset = MNIST(root='mnist', train=False, download=True, transform=T.ToTensor())\n",
        "\n",
        "train_dataset_flattened = MNIST(root='mnist/flattened/', train=True, download=True,\n",
        "    transform=T.Compose([T.ToTensor(), T.Lambda(torch.flatten)]))\n",
        "test_dataset_flattened = MNIST(root='mnist/flattened/', train=False, download=True,\n",
        "    transform=T.Compose([T.ToTensor(), T.Lambda(torch.flatten)]))"
      ],
      "metadata": {
        "id": "9Zs-vvaziJs7",
        "outputId": "80f83375-c500-437c-d99c-da99e4a99af3",
        "colab": {
          "base_uri": "https://localhost:8080/"
        }
      },
      "execution_count": 1,
      "outputs": [
        {
          "output_type": "stream",
          "name": "stdout",
          "text": [
            "Downloading http://yann.lecun.com/exdb/mnist/train-images-idx3-ubyte.gz\n",
            "Downloading http://yann.lecun.com/exdb/mnist/train-images-idx3-ubyte.gz to mnist/MNIST/raw/train-images-idx3-ubyte.gz\n"
          ]
        },
        {
          "output_type": "stream",
          "name": "stderr",
          "text": [
            "100%|██████████| 9912422/9912422 [00:00<00:00, 109757814.24it/s]\n"
          ]
        },
        {
          "output_type": "stream",
          "name": "stdout",
          "text": [
            "Extracting mnist/MNIST/raw/train-images-idx3-ubyte.gz to mnist/MNIST/raw\n",
            "\n",
            "Downloading http://yann.lecun.com/exdb/mnist/train-labels-idx1-ubyte.gz\n",
            "Downloading http://yann.lecun.com/exdb/mnist/train-labels-idx1-ubyte.gz to mnist/MNIST/raw/train-labels-idx1-ubyte.gz\n"
          ]
        },
        {
          "output_type": "stream",
          "name": "stderr",
          "text": [
            "100%|██████████| 28881/28881 [00:00<00:00, 3492753.99it/s]\n"
          ]
        },
        {
          "output_type": "stream",
          "name": "stdout",
          "text": [
            "Extracting mnist/MNIST/raw/train-labels-idx1-ubyte.gz to mnist/MNIST/raw\n",
            "\n",
            "Downloading http://yann.lecun.com/exdb/mnist/t10k-images-idx3-ubyte.gz\n",
            "Downloading http://yann.lecun.com/exdb/mnist/t10k-images-idx3-ubyte.gz to mnist/MNIST/raw/t10k-images-idx3-ubyte.gz\n"
          ]
        },
        {
          "output_type": "stream",
          "name": "stderr",
          "text": [
            "100%|██████████| 1648877/1648877 [00:00<00:00, 58299471.42it/s]\n"
          ]
        },
        {
          "output_type": "stream",
          "name": "stdout",
          "text": [
            "Extracting mnist/MNIST/raw/t10k-images-idx3-ubyte.gz to mnist/MNIST/raw\n",
            "\n",
            "Downloading http://yann.lecun.com/exdb/mnist/t10k-labels-idx1-ubyte.gz\n",
            "Downloading http://yann.lecun.com/exdb/mnist/t10k-labels-idx1-ubyte.gz to mnist/MNIST/raw/t10k-labels-idx1-ubyte.gz\n"
          ]
        },
        {
          "output_type": "stream",
          "name": "stderr",
          "text": [
            "100%|██████████| 4542/4542 [00:00<00:00, 13183756.93it/s]"
          ]
        },
        {
          "output_type": "stream",
          "name": "stdout",
          "text": [
            "Extracting mnist/MNIST/raw/t10k-labels-idx1-ubyte.gz to mnist/MNIST/raw\n",
            "\n"
          ]
        },
        {
          "output_type": "stream",
          "name": "stderr",
          "text": [
            "\n"
          ]
        },
        {
          "output_type": "stream",
          "name": "stdout",
          "text": [
            "Downloading http://yann.lecun.com/exdb/mnist/train-images-idx3-ubyte.gz\n",
            "Downloading http://yann.lecun.com/exdb/mnist/train-images-idx3-ubyte.gz to mnist/flattened/MNIST/raw/train-images-idx3-ubyte.gz\n"
          ]
        },
        {
          "output_type": "stream",
          "name": "stderr",
          "text": [
            "100%|██████████| 9912422/9912422 [00:00<00:00, 205380107.22it/s]"
          ]
        },
        {
          "output_type": "stream",
          "name": "stdout",
          "text": [
            "Extracting mnist/flattened/MNIST/raw/train-images-idx3-ubyte.gz to mnist/flattened/MNIST/raw\n"
          ]
        },
        {
          "output_type": "stream",
          "name": "stderr",
          "text": [
            "\n"
          ]
        },
        {
          "output_type": "stream",
          "name": "stdout",
          "text": [
            "\n",
            "Downloading http://yann.lecun.com/exdb/mnist/train-labels-idx1-ubyte.gz\n",
            "Downloading http://yann.lecun.com/exdb/mnist/train-labels-idx1-ubyte.gz to mnist/flattened/MNIST/raw/train-labels-idx1-ubyte.gz\n"
          ]
        },
        {
          "output_type": "stream",
          "name": "stderr",
          "text": [
            "100%|██████████| 28881/28881 [00:00<00:00, 66558073.53it/s]\n"
          ]
        },
        {
          "output_type": "stream",
          "name": "stdout",
          "text": [
            "Extracting mnist/flattened/MNIST/raw/train-labels-idx1-ubyte.gz to mnist/flattened/MNIST/raw\n",
            "\n",
            "Downloading http://yann.lecun.com/exdb/mnist/t10k-images-idx3-ubyte.gz\n",
            "Downloading http://yann.lecun.com/exdb/mnist/t10k-images-idx3-ubyte.gz to mnist/flattened/MNIST/raw/t10k-images-idx3-ubyte.gz\n"
          ]
        },
        {
          "output_type": "stream",
          "name": "stderr",
          "text": [
            "100%|██████████| 1648877/1648877 [00:00<00:00, 114943016.16it/s]"
          ]
        },
        {
          "output_type": "stream",
          "name": "stdout",
          "text": [
            "Extracting mnist/flattened/MNIST/raw/t10k-images-idx3-ubyte.gz to mnist/flattened/MNIST/raw\n"
          ]
        },
        {
          "output_type": "stream",
          "name": "stderr",
          "text": [
            "\n"
          ]
        },
        {
          "output_type": "stream",
          "name": "stdout",
          "text": [
            "\n",
            "Downloading http://yann.lecun.com/exdb/mnist/t10k-labels-idx1-ubyte.gz\n",
            "Downloading http://yann.lecun.com/exdb/mnist/t10k-labels-idx1-ubyte.gz to mnist/flattened/MNIST/raw/t10k-labels-idx1-ubyte.gz\n"
          ]
        },
        {
          "output_type": "stream",
          "name": "stderr",
          "text": [
            "100%|██████████| 4542/4542 [00:00<00:00, 13549451.47it/s]"
          ]
        },
        {
          "output_type": "stream",
          "name": "stdout",
          "text": [
            "Extracting mnist/flattened/MNIST/raw/t10k-labels-idx1-ubyte.gz to mnist/flattened/MNIST/raw\n",
            "\n"
          ]
        },
        {
          "output_type": "stream",
          "name": "stderr",
          "text": [
            "\n"
          ]
        }
      ]
    },
    {
      "cell_type": "markdown",
      "source": [
        "### A first look at the data"
      ],
      "metadata": {
        "id": "qoyM34OBRW1t"
      }
    },
    {
      "cell_type": "code",
      "source": [
        "len(train_dataset)"
      ],
      "metadata": {
        "colab": {
          "base_uri": "https://localhost:8080/"
        },
        "id": "j5v6jWVdOYdx",
        "outputId": "01dac8c1-64df-481c-895f-6cd698d32bb7"
      },
      "execution_count": null,
      "outputs": [
        {
          "output_type": "execute_result",
          "data": {
            "text/plain": [
              "60000"
            ]
          },
          "metadata": {},
          "execution_count": 67
        }
      ]
    },
    {
      "cell_type": "code",
      "source": [
        "len(test_dataset)"
      ],
      "metadata": {
        "colab": {
          "base_uri": "https://localhost:8080/"
        },
        "id": "4R79ZGt7OqhK",
        "outputId": "9a2886a6-0441-4956-ae8f-73784d988ab7"
      },
      "execution_count": null,
      "outputs": [
        {
          "output_type": "execute_result",
          "data": {
            "text/plain": [
              "10000"
            ]
          },
          "metadata": {},
          "execution_count": 24
        }
      ]
    },
    {
      "cell_type": "markdown",
      "source": [
        "Each image is a 3D tensor with a single channel (first dimension) and height and width of 28."
      ],
      "metadata": {
        "id": "aeNiwH0pREil"
      }
    },
    {
      "cell_type": "code",
      "source": [
        "i = 0\n",
        "train_dataset[i][0].shape"
      ],
      "metadata": {
        "colab": {
          "base_uri": "https://localhost:8080/"
        },
        "id": "SHs0yhK3OsgG",
        "outputId": "563ea1a3-244f-467e-d390-c8eb411b2e1e"
      },
      "execution_count": null,
      "outputs": [
        {
          "output_type": "execute_result",
          "data": {
            "text/plain": [
              "torch.Size([1, 28, 28])"
            ]
          },
          "metadata": {},
          "execution_count": 25
        }
      ]
    },
    {
      "cell_type": "markdown",
      "source": [
        "We can get the label of the *i*th image of the training dataset like so:"
      ],
      "metadata": {
        "id": "6tif9Y8TQUBg"
      }
    },
    {
      "cell_type": "code",
      "source": [
        "train_dataset[i][1]"
      ],
      "metadata": {
        "colab": {
          "base_uri": "https://localhost:8080/"
        },
        "id": "IqUM-A9bPToD",
        "outputId": "29f8095e-957b-4c91-befa-e6f94cdbc345"
      },
      "execution_count": null,
      "outputs": [
        {
          "output_type": "execute_result",
          "data": {
            "text/plain": [
              "5"
            ]
          },
          "metadata": {},
          "execution_count": 26
        }
      ]
    },
    {
      "cell_type": "markdown",
      "source": [
        "Similarly, we can get the label of the *i*th image of the test dataset:"
      ],
      "metadata": {
        "id": "KqHbjfSdQdkL"
      }
    },
    {
      "cell_type": "code",
      "source": [
        "test_dataset[i][1]"
      ],
      "metadata": {
        "colab": {
          "base_uri": "https://localhost:8080/"
        },
        "id": "eflGAHYCPl24",
        "outputId": "bc193611-76b2-4be1-bb01-1fc986aca923"
      },
      "execution_count": null,
      "outputs": [
        {
          "output_type": "execute_result",
          "data": {
            "text/plain": [
              "7"
            ]
          },
          "metadata": {},
          "execution_count": 27
        }
      ]
    },
    {
      "cell_type": "markdown",
      "source": [
        "In our flattened version of the dataset, each image has been flattened to be a 1D tensor."
      ],
      "metadata": {
        "id": "PRbotlwGR3--"
      }
    },
    {
      "cell_type": "code",
      "source": [
        "train_dataset_flattened[i][0].shape"
      ],
      "metadata": {
        "colab": {
          "base_uri": "https://localhost:8080/"
        },
        "id": "1q5iEOmvPvWf",
        "outputId": "6da1baab-37ff-4aeb-c110-1eccc6eadf7c"
      },
      "execution_count": null,
      "outputs": [
        {
          "output_type": "execute_result",
          "data": {
            "text/plain": [
              "torch.Size([784])"
            ]
          },
          "metadata": {},
          "execution_count": 28
        }
      ]
    },
    {
      "cell_type": "markdown",
      "source": [
        "Let's take a look at the pixel values of the first training example. It's good practice to normalize input data to make the optimization landscape smoother so that it takes fewer iterations to converge to a good minimum. Notice all the values have already been normalized to be between 0 and 1, with 1 corresponding with \"black\" and 0 with \"white.\""
      ],
      "metadata": {
        "id": "V5mJfj0ETmEV"
      }
    },
    {
      "cell_type": "code",
      "source": [
        "import pandas as pd\n",
        "\n",
        "df = pd.DataFrame(torch.squeeze(train_dataset[0][0]))\n",
        "df.style.set_properties(**{'font-size':'6pt'}).background_gradient('Greys').format(precision=2)"
      ],
      "metadata": {
        "colab": {
          "base_uri": "https://localhost:8080/",
          "height": 928
        },
        "id": "Ny1o281t4XUS",
        "outputId": "dd3fdf7f-89e4-4efd-d84c-73803183e115"
      },
      "execution_count": null,
      "outputs": [
        {
          "output_type": "execute_result",
          "data": {
            "text/plain": [
              "<pandas.io.formats.style.Styler at 0x7c62ec6747c0>"
            ],
            "text/html": [
              "<style type=\"text/css\">\n",
              "#T_80317_row0_col0, #T_80317_row0_col1, #T_80317_row0_col2, #T_80317_row0_col3, #T_80317_row0_col4, #T_80317_row0_col5, #T_80317_row0_col6, #T_80317_row0_col7, #T_80317_row0_col8, #T_80317_row0_col9, #T_80317_row0_col10, #T_80317_row0_col11, #T_80317_row0_col12, #T_80317_row0_col13, #T_80317_row0_col14, #T_80317_row0_col15, #T_80317_row0_col16, #T_80317_row0_col17, #T_80317_row0_col18, #T_80317_row0_col19, #T_80317_row0_col20, #T_80317_row0_col21, #T_80317_row0_col22, #T_80317_row0_col23, #T_80317_row0_col24, #T_80317_row0_col25, #T_80317_row0_col26, #T_80317_row0_col27, #T_80317_row1_col0, #T_80317_row1_col1, #T_80317_row1_col2, #T_80317_row1_col3, #T_80317_row1_col4, #T_80317_row1_col5, #T_80317_row1_col6, #T_80317_row1_col7, #T_80317_row1_col8, #T_80317_row1_col9, #T_80317_row1_col10, #T_80317_row1_col11, #T_80317_row1_col12, #T_80317_row1_col13, #T_80317_row1_col14, #T_80317_row1_col15, #T_80317_row1_col16, #T_80317_row1_col17, #T_80317_row1_col18, #T_80317_row1_col19, #T_80317_row1_col20, #T_80317_row1_col21, #T_80317_row1_col22, #T_80317_row1_col23, #T_80317_row1_col24, #T_80317_row1_col25, #T_80317_row1_col26, #T_80317_row1_col27, #T_80317_row2_col0, #T_80317_row2_col1, #T_80317_row2_col2, #T_80317_row2_col3, #T_80317_row2_col4, #T_80317_row2_col5, #T_80317_row2_col6, #T_80317_row2_col7, #T_80317_row2_col8, #T_80317_row2_col9, #T_80317_row2_col10, #T_80317_row2_col11, #T_80317_row2_col12, #T_80317_row2_col13, #T_80317_row2_col14, #T_80317_row2_col15, #T_80317_row2_col16, #T_80317_row2_col17, #T_80317_row2_col18, #T_80317_row2_col19, #T_80317_row2_col20, #T_80317_row2_col21, #T_80317_row2_col22, #T_80317_row2_col23, #T_80317_row2_col24, #T_80317_row2_col25, #T_80317_row2_col26, #T_80317_row2_col27, #T_80317_row3_col0, #T_80317_row3_col1, #T_80317_row3_col2, #T_80317_row3_col3, #T_80317_row3_col4, #T_80317_row3_col5, #T_80317_row3_col6, #T_80317_row3_col7, #T_80317_row3_col8, #T_80317_row3_col9, #T_80317_row3_col10, #T_80317_row3_col11, #T_80317_row3_col12, #T_80317_row3_col13, #T_80317_row3_col14, #T_80317_row3_col15, #T_80317_row3_col16, #T_80317_row3_col17, #T_80317_row3_col18, #T_80317_row3_col19, #T_80317_row3_col20, #T_80317_row3_col21, #T_80317_row3_col22, #T_80317_row3_col23, #T_80317_row3_col24, #T_80317_row3_col25, #T_80317_row3_col26, #T_80317_row3_col27, #T_80317_row4_col0, #T_80317_row4_col1, #T_80317_row4_col2, #T_80317_row4_col3, #T_80317_row4_col4, #T_80317_row4_col5, #T_80317_row4_col6, #T_80317_row4_col7, #T_80317_row4_col8, #T_80317_row4_col9, #T_80317_row4_col10, #T_80317_row4_col11, #T_80317_row4_col12, #T_80317_row4_col13, #T_80317_row4_col14, #T_80317_row4_col15, #T_80317_row4_col16, #T_80317_row4_col17, #T_80317_row4_col18, #T_80317_row4_col19, #T_80317_row4_col20, #T_80317_row4_col21, #T_80317_row4_col22, #T_80317_row4_col23, #T_80317_row4_col24, #T_80317_row4_col25, #T_80317_row4_col26, #T_80317_row4_col27, #T_80317_row5_col0, #T_80317_row5_col1, #T_80317_row5_col2, #T_80317_row5_col3, #T_80317_row5_col4, #T_80317_row5_col5, #T_80317_row5_col6, #T_80317_row5_col7, #T_80317_row5_col8, #T_80317_row5_col9, #T_80317_row5_col10, #T_80317_row5_col11, #T_80317_row5_col24, #T_80317_row5_col25, #T_80317_row5_col26, #T_80317_row5_col27, #T_80317_row6_col0, #T_80317_row6_col1, #T_80317_row6_col2, #T_80317_row6_col3, #T_80317_row6_col4, #T_80317_row6_col5, #T_80317_row6_col6, #T_80317_row6_col7, #T_80317_row6_col24, #T_80317_row6_col25, #T_80317_row6_col26, #T_80317_row6_col27, #T_80317_row7_col0, #T_80317_row7_col1, #T_80317_row7_col2, #T_80317_row7_col3, #T_80317_row7_col4, #T_80317_row7_col5, #T_80317_row7_col6, #T_80317_row7_col23, #T_80317_row7_col24, #T_80317_row7_col25, #T_80317_row7_col26, #T_80317_row7_col27, #T_80317_row8_col0, #T_80317_row8_col1, #T_80317_row8_col2, #T_80317_row8_col3, #T_80317_row8_col4, #T_80317_row8_col5, #T_80317_row8_col6, #T_80317_row8_col18, #T_80317_row8_col19, #T_80317_row8_col20, #T_80317_row8_col21, #T_80317_row8_col22, #T_80317_row8_col23, #T_80317_row8_col24, #T_80317_row8_col25, #T_80317_row8_col26, #T_80317_row8_col27, #T_80317_row9_col0, #T_80317_row9_col1, #T_80317_row9_col2, #T_80317_row9_col3, #T_80317_row9_col4, #T_80317_row9_col5, #T_80317_row9_col6, #T_80317_row9_col7, #T_80317_row9_col15, #T_80317_row9_col18, #T_80317_row9_col19, #T_80317_row9_col20, #T_80317_row9_col21, #T_80317_row9_col22, #T_80317_row9_col23, #T_80317_row9_col24, #T_80317_row9_col25, #T_80317_row9_col26, #T_80317_row9_col27, #T_80317_row10_col0, #T_80317_row10_col1, #T_80317_row10_col2, #T_80317_row10_col3, #T_80317_row10_col4, #T_80317_row10_col5, #T_80317_row10_col6, #T_80317_row10_col7, #T_80317_row10_col8, #T_80317_row10_col10, #T_80317_row10_col14, #T_80317_row10_col15, #T_80317_row10_col16, #T_80317_row10_col17, #T_80317_row10_col18, #T_80317_row10_col19, #T_80317_row10_col20, #T_80317_row10_col21, #T_80317_row10_col22, #T_80317_row10_col23, #T_80317_row10_col24, #T_80317_row10_col25, #T_80317_row10_col26, #T_80317_row10_col27, #T_80317_row11_col0, #T_80317_row11_col1, #T_80317_row11_col2, #T_80317_row11_col3, #T_80317_row11_col4, #T_80317_row11_col5, #T_80317_row11_col6, #T_80317_row11_col7, #T_80317_row11_col8, #T_80317_row11_col9, #T_80317_row11_col10, #T_80317_row11_col15, #T_80317_row11_col16, #T_80317_row11_col17, #T_80317_row11_col18, #T_80317_row11_col19, #T_80317_row11_col20, #T_80317_row11_col21, #T_80317_row11_col22, #T_80317_row11_col23, #T_80317_row11_col24, #T_80317_row11_col25, #T_80317_row11_col26, #T_80317_row11_col27, #T_80317_row12_col0, #T_80317_row12_col1, #T_80317_row12_col2, #T_80317_row12_col3, #T_80317_row12_col4, #T_80317_row12_col5, #T_80317_row12_col6, #T_80317_row12_col7, #T_80317_row12_col8, #T_80317_row12_col9, #T_80317_row12_col10, #T_80317_row12_col15, #T_80317_row12_col16, #T_80317_row12_col17, #T_80317_row12_col18, #T_80317_row12_col19, #T_80317_row12_col20, #T_80317_row12_col21, #T_80317_row12_col22, #T_80317_row12_col23, #T_80317_row12_col24, #T_80317_row12_col25, #T_80317_row12_col26, #T_80317_row12_col27, #T_80317_row13_col0, #T_80317_row13_col1, #T_80317_row13_col2, #T_80317_row13_col3, #T_80317_row13_col4, #T_80317_row13_col5, #T_80317_row13_col6, #T_80317_row13_col7, #T_80317_row13_col8, #T_80317_row13_col9, #T_80317_row13_col10, #T_80317_row13_col11, #T_80317_row13_col17, #T_80317_row13_col18, #T_80317_row13_col19, #T_80317_row13_col20, #T_80317_row13_col21, #T_80317_row13_col22, #T_80317_row13_col23, #T_80317_row13_col24, #T_80317_row13_col25, #T_80317_row13_col26, #T_80317_row13_col27, #T_80317_row14_col0, #T_80317_row14_col1, #T_80317_row14_col2, #T_80317_row14_col3, #T_80317_row14_col4, #T_80317_row14_col5, #T_80317_row14_col6, #T_80317_row14_col7, #T_80317_row14_col8, #T_80317_row14_col9, #T_80317_row14_col10, #T_80317_row14_col11, #T_80317_row14_col12, #T_80317_row14_col19, #T_80317_row14_col20, #T_80317_row14_col21, #T_80317_row14_col22, #T_80317_row14_col23, #T_80317_row14_col24, #T_80317_row14_col25, #T_80317_row14_col26, #T_80317_row14_col27, #T_80317_row15_col0, #T_80317_row15_col1, #T_80317_row15_col2, #T_80317_row15_col3, #T_80317_row15_col4, #T_80317_row15_col5, #T_80317_row15_col6, #T_80317_row15_col7, #T_80317_row15_col8, #T_80317_row15_col9, #T_80317_row15_col10, #T_80317_row15_col11, #T_80317_row15_col12, #T_80317_row15_col13, #T_80317_row15_col20, #T_80317_row15_col21, #T_80317_row15_col22, #T_80317_row15_col23, #T_80317_row15_col24, #T_80317_row15_col25, #T_80317_row15_col26, #T_80317_row15_col27, #T_80317_row16_col0, #T_80317_row16_col1, #T_80317_row16_col2, #T_80317_row16_col3, #T_80317_row16_col4, #T_80317_row16_col5, #T_80317_row16_col6, #T_80317_row16_col7, #T_80317_row16_col8, #T_80317_row16_col9, #T_80317_row16_col10, #T_80317_row16_col11, #T_80317_row16_col12, #T_80317_row16_col13, #T_80317_row16_col14, #T_80317_row16_col20, #T_80317_row16_col21, #T_80317_row16_col22, #T_80317_row16_col23, #T_80317_row16_col24, #T_80317_row16_col25, #T_80317_row16_col26, #T_80317_row16_col27, #T_80317_row17_col0, #T_80317_row17_col1, #T_80317_row17_col2, #T_80317_row17_col3, #T_80317_row17_col4, #T_80317_row17_col5, #T_80317_row17_col6, #T_80317_row17_col7, #T_80317_row17_col8, #T_80317_row17_col9, #T_80317_row17_col10, #T_80317_row17_col11, #T_80317_row17_col12, #T_80317_row17_col13, #T_80317_row17_col14, #T_80317_row17_col15, #T_80317_row17_col16, #T_80317_row17_col21, #T_80317_row17_col22, #T_80317_row17_col23, #T_80317_row17_col24, #T_80317_row17_col25, #T_80317_row17_col26, #T_80317_row17_col27, #T_80317_row18_col0, #T_80317_row18_col1, #T_80317_row18_col2, #T_80317_row18_col3, #T_80317_row18_col4, #T_80317_row18_col5, #T_80317_row18_col6, #T_80317_row18_col7, #T_80317_row18_col8, #T_80317_row18_col9, #T_80317_row18_col10, #T_80317_row18_col11, #T_80317_row18_col12, #T_80317_row18_col13, #T_80317_row18_col21, #T_80317_row18_col22, #T_80317_row18_col23, #T_80317_row18_col24, #T_80317_row18_col25, #T_80317_row18_col26, #T_80317_row18_col27, #T_80317_row19_col0, #T_80317_row19_col1, #T_80317_row19_col2, #T_80317_row19_col3, #T_80317_row19_col4, #T_80317_row19_col5, #T_80317_row19_col6, #T_80317_row19_col7, #T_80317_row19_col8, #T_80317_row19_col9, #T_80317_row19_col10, #T_80317_row19_col11, #T_80317_row19_col20, #T_80317_row19_col21, #T_80317_row19_col22, #T_80317_row19_col23, #T_80317_row19_col24, #T_80317_row19_col25, #T_80317_row19_col26, #T_80317_row19_col27, #T_80317_row20_col0, #T_80317_row20_col1, #T_80317_row20_col2, #T_80317_row20_col3, #T_80317_row20_col4, #T_80317_row20_col5, #T_80317_row20_col6, #T_80317_row20_col7, #T_80317_row20_col8, #T_80317_row20_col9, #T_80317_row20_col19, #T_80317_row20_col20, #T_80317_row20_col21, #T_80317_row20_col22, #T_80317_row20_col23, #T_80317_row20_col24, #T_80317_row20_col25, #T_80317_row20_col26, #T_80317_row20_col27, #T_80317_row21_col0, #T_80317_row21_col1, #T_80317_row21_col2, #T_80317_row21_col3, #T_80317_row21_col4, #T_80317_row21_col5, #T_80317_row21_col6, #T_80317_row21_col7, #T_80317_row21_col18, #T_80317_row21_col19, #T_80317_row21_col20, #T_80317_row21_col21, #T_80317_row21_col22, #T_80317_row21_col23, #T_80317_row21_col24, #T_80317_row21_col25, #T_80317_row21_col26, #T_80317_row21_col27, #T_80317_row22_col0, #T_80317_row22_col1, #T_80317_row22_col2, #T_80317_row22_col3, #T_80317_row22_col4, #T_80317_row22_col5, #T_80317_row22_col16, #T_80317_row22_col17, #T_80317_row22_col18, #T_80317_row22_col19, #T_80317_row22_col20, #T_80317_row22_col21, #T_80317_row22_col22, #T_80317_row22_col23, #T_80317_row22_col24, #T_80317_row22_col25, #T_80317_row22_col26, #T_80317_row22_col27, #T_80317_row23_col0, #T_80317_row23_col1, #T_80317_row23_col2, #T_80317_row23_col3, #T_80317_row23_col14, #T_80317_row23_col15, #T_80317_row23_col16, #T_80317_row23_col17, #T_80317_row23_col18, #T_80317_row23_col19, #T_80317_row23_col20, #T_80317_row23_col21, #T_80317_row23_col22, #T_80317_row23_col23, #T_80317_row23_col24, #T_80317_row23_col25, #T_80317_row23_col26, #T_80317_row23_col27, #T_80317_row24_col0, #T_80317_row24_col1, #T_80317_row24_col2, #T_80317_row24_col3, #T_80317_row24_col12, #T_80317_row24_col13, #T_80317_row24_col14, #T_80317_row24_col15, #T_80317_row24_col16, #T_80317_row24_col17, #T_80317_row24_col18, #T_80317_row24_col19, #T_80317_row24_col20, #T_80317_row24_col21, #T_80317_row24_col22, #T_80317_row24_col23, #T_80317_row24_col24, #T_80317_row24_col25, #T_80317_row24_col26, #T_80317_row24_col27, #T_80317_row25_col0, #T_80317_row25_col1, #T_80317_row25_col2, #T_80317_row25_col3, #T_80317_row25_col4, #T_80317_row25_col5, #T_80317_row25_col6, #T_80317_row25_col7, #T_80317_row25_col8, #T_80317_row25_col9, #T_80317_row25_col10, #T_80317_row25_col11, #T_80317_row25_col12, #T_80317_row25_col13, #T_80317_row25_col14, #T_80317_row25_col15, #T_80317_row25_col16, #T_80317_row25_col17, #T_80317_row25_col18, #T_80317_row25_col19, #T_80317_row25_col20, #T_80317_row25_col21, #T_80317_row25_col22, #T_80317_row25_col23, #T_80317_row25_col24, #T_80317_row25_col25, #T_80317_row25_col26, #T_80317_row25_col27, #T_80317_row26_col0, #T_80317_row26_col1, #T_80317_row26_col2, #T_80317_row26_col3, #T_80317_row26_col4, #T_80317_row26_col5, #T_80317_row26_col6, #T_80317_row26_col7, #T_80317_row26_col8, #T_80317_row26_col9, #T_80317_row26_col10, #T_80317_row26_col11, #T_80317_row26_col12, #T_80317_row26_col13, #T_80317_row26_col14, #T_80317_row26_col15, #T_80317_row26_col16, #T_80317_row26_col17, #T_80317_row26_col18, #T_80317_row26_col19, #T_80317_row26_col20, #T_80317_row26_col21, #T_80317_row26_col22, #T_80317_row26_col23, #T_80317_row26_col24, #T_80317_row26_col25, #T_80317_row26_col26, #T_80317_row26_col27, #T_80317_row27_col0, #T_80317_row27_col1, #T_80317_row27_col2, #T_80317_row27_col3, #T_80317_row27_col4, #T_80317_row27_col5, #T_80317_row27_col6, #T_80317_row27_col7, #T_80317_row27_col8, #T_80317_row27_col9, #T_80317_row27_col10, #T_80317_row27_col11, #T_80317_row27_col12, #T_80317_row27_col13, #T_80317_row27_col14, #T_80317_row27_col15, #T_80317_row27_col16, #T_80317_row27_col17, #T_80317_row27_col18, #T_80317_row27_col19, #T_80317_row27_col20, #T_80317_row27_col21, #T_80317_row27_col22, #T_80317_row27_col23, #T_80317_row27_col24, #T_80317_row27_col25, #T_80317_row27_col26, #T_80317_row27_col27 {\n",
              "  font-size: 6pt;\n",
              "  background-color: #ffffff;\n",
              "  color: #000000;\n",
              "}\n",
              "#T_80317_row5_col12, #T_80317_row11_col14, #T_80317_row18_col20, #T_80317_row21_col17 {\n",
              "  font-size: 6pt;\n",
              "  background-color: #fefefe;\n",
              "  color: #000000;\n",
              "}\n",
              "#T_80317_row5_col13, #T_80317_row5_col14, #T_80317_row5_col15, #T_80317_row8_col7, #T_80317_row16_col15, #T_80317_row22_col6, #T_80317_row24_col11 {\n",
              "  font-size: 6pt;\n",
              "  background-color: #f7f7f7;\n",
              "  color: #000000;\n",
              "}\n",
              "#T_80317_row5_col16 {\n",
              "  font-size: 6pt;\n",
              "  background-color: #979797;\n",
              "  color: #f1f1f1;\n",
              "}\n",
              "#T_80317_row5_col17 {\n",
              "  font-size: 6pt;\n",
              "  background-color: #8c8c8c;\n",
              "  color: #f1f1f1;\n",
              "}\n",
              "#T_80317_row5_col18 {\n",
              "  font-size: 6pt;\n",
              "  background-color: #616161;\n",
              "  color: #f1f1f1;\n",
              "}\n",
              "#T_80317_row5_col19, #T_80317_row14_col18 {\n",
              "  font-size: 6pt;\n",
              "  background-color: #f3f3f3;\n",
              "  color: #000000;\n",
              "}\n",
              "#T_80317_row5_col20 {\n",
              "  font-size: 6pt;\n",
              "  background-color: #6b6b6b;\n",
              "  color: #f1f1f1;\n",
              "}\n",
              "#T_80317_row5_col21, #T_80317_row5_col22, #T_80317_row5_col23, #T_80317_row6_col13, #T_80317_row6_col14, #T_80317_row6_col15, #T_80317_row6_col16, #T_80317_row6_col17, #T_80317_row6_col20, #T_80317_row7_col9, #T_80317_row7_col10, #T_80317_row7_col11, #T_80317_row7_col12, #T_80317_row7_col13, #T_80317_row7_col14, #T_80317_row7_col15, #T_80317_row7_col16, #T_80317_row8_col9, #T_80317_row8_col10, #T_80317_row8_col11, #T_80317_row8_col12, #T_80317_row8_col13, #T_80317_row9_col11, #T_80317_row9_col12, #T_80317_row10_col12, #T_80317_row11_col12, #T_80317_row12_col13, #T_80317_row14_col15, #T_80317_row14_col16, #T_80317_row15_col16, #T_80317_row15_col17, #T_80317_row16_col18, #T_80317_row17_col18, #T_80317_row17_col19, #T_80317_row18_col17, #T_80317_row18_col18, #T_80317_row19_col15, #T_80317_row19_col16, #T_80317_row19_col17, #T_80317_row20_col13, #T_80317_row20_col14, #T_80317_row20_col15, #T_80317_row20_col16, #T_80317_row21_col11, #T_80317_row21_col12, #T_80317_row21_col13, #T_80317_row21_col14, #T_80317_row22_col9, #T_80317_row22_col10, #T_80317_row22_col11, #T_80317_row22_col12, #T_80317_row23_col7, #T_80317_row23_col8, #T_80317_row23_col9, #T_80317_row23_col10, #T_80317_row24_col4, #T_80317_row24_col5, #T_80317_row24_col6, #T_80317_row24_col7 {\n",
              "  font-size: 6pt;\n",
              "  background-color: #000000;\n",
              "  color: #f1f1f1;\n",
              "}\n",
              "#T_80317_row6_col8 {\n",
              "  font-size: 6pt;\n",
              "  background-color: #f1f1f1;\n",
              "  color: #000000;\n",
              "}\n",
              "#T_80317_row6_col9 {\n",
              "  font-size: 6pt;\n",
              "  background-color: #ededed;\n",
              "  color: #000000;\n",
              "}\n",
              "#T_80317_row6_col10, #T_80317_row7_col18, #T_80317_row16_col16 {\n",
              "  font-size: 6pt;\n",
              "  background-color: #bebebe;\n",
              "  color: #000000;\n",
              "}\n",
              "#T_80317_row6_col11, #T_80317_row9_col17, #T_80317_row10_col11 {\n",
              "  font-size: 6pt;\n",
              "  background-color: #787878;\n",
              "  color: #f1f1f1;\n",
              "}\n",
              "#T_80317_row6_col12 {\n",
              "  font-size: 6pt;\n",
              "  background-color: #666666;\n",
              "  color: #f1f1f1;\n",
              "}\n",
              "#T_80317_row6_col18, #T_80317_row13_col14 {\n",
              "  font-size: 6pt;\n",
              "  background-color: #212121;\n",
              "  color: #f1f1f1;\n",
              "}\n",
              "#T_80317_row6_col19 {\n",
              "  font-size: 6pt;\n",
              "  background-color: #626262;\n",
              "  color: #f1f1f1;\n",
              "}\n",
              "#T_80317_row6_col21, #T_80317_row14_col14 {\n",
              "  font-size: 6pt;\n",
              "  background-color: #0f0f0f;\n",
              "  color: #f1f1f1;\n",
              "}\n",
              "#T_80317_row6_col22 {\n",
              "  font-size: 6pt;\n",
              "  background-color: #434343;\n",
              "  color: #f1f1f1;\n",
              "}\n",
              "#T_80317_row6_col23 {\n",
              "  font-size: 6pt;\n",
              "  background-color: #949494;\n",
              "  color: #f1f1f1;\n",
              "}\n",
              "#T_80317_row7_col7 {\n",
              "  font-size: 6pt;\n",
              "  background-color: #e4e4e4;\n",
              "  color: #000000;\n",
              "}\n",
              "#T_80317_row7_col8 {\n",
              "  font-size: 6pt;\n",
              "  background-color: #111111;\n",
              "  color: #f1f1f1;\n",
              "}\n",
              "#T_80317_row7_col17 {\n",
              "  font-size: 6pt;\n",
              "  background-color: #020202;\n",
              "  color: #f1f1f1;\n",
              "}\n",
              "#T_80317_row7_col19 {\n",
              "  font-size: 6pt;\n",
              "  background-color: #c7c7c7;\n",
              "  color: #000000;\n",
              "}\n",
              "#T_80317_row7_col20 {\n",
              "  font-size: 6pt;\n",
              "  background-color: #c9c9c9;\n",
              "  color: #000000;\n",
              "}\n",
              "#T_80317_row7_col21 {\n",
              "  font-size: 6pt;\n",
              "  background-color: #dfdfdf;\n",
              "  color: #000000;\n",
              "}\n",
              "#T_80317_row7_col22 {\n",
              "  font-size: 6pt;\n",
              "  background-color: #eaeaea;\n",
              "  color: #000000;\n",
              "}\n",
              "#T_80317_row8_col8, #T_80317_row22_col8 {\n",
              "  font-size: 6pt;\n",
              "  background-color: #282828;\n",
              "  color: #f1f1f1;\n",
              "}\n",
              "#T_80317_row8_col14, #T_80317_row21_col15 {\n",
              "  font-size: 6pt;\n",
              "  background-color: #464646;\n",
              "  color: #f1f1f1;\n",
              "}\n",
              "#T_80317_row8_col15 {\n",
              "  font-size: 6pt;\n",
              "  background-color: #5a5a5a;\n",
              "  color: #f1f1f1;\n",
              "}\n",
              "#T_80317_row8_col16 {\n",
              "  font-size: 6pt;\n",
              "  background-color: #070707;\n",
              "  color: #f1f1f1;\n",
              "}\n",
              "#T_80317_row8_col17, #T_80317_row13_col13 {\n",
              "  font-size: 6pt;\n",
              "  background-color: #0e0e0e;\n",
              "  color: #f1f1f1;\n",
              "}\n",
              "#T_80317_row9_col8, #T_80317_row22_col14 {\n",
              "  font-size: 6pt;\n",
              "  background-color: #cbcbcb;\n",
              "  color: #000000;\n",
              "}\n",
              "#T_80317_row9_col9 {\n",
              "  font-size: 6pt;\n",
              "  background-color: #767676;\n",
              "  color: #f1f1f1;\n",
              "}\n",
              "#T_80317_row9_col10 {\n",
              "  font-size: 6pt;\n",
              "  background-color: #aeaeae;\n",
              "  color: #000000;\n",
              "}\n",
              "#T_80317_row9_col13 {\n",
              "  font-size: 6pt;\n",
              "  background-color: #3c3c3c;\n",
              "  color: #f1f1f1;\n",
              "}\n",
              "#T_80317_row9_col14, #T_80317_row12_col11, #T_80317_row23_col13 {\n",
              "  font-size: 6pt;\n",
              "  background-color: #fafafa;\n",
              "  color: #000000;\n",
              "}\n",
              "#T_80317_row9_col16 {\n",
              "  font-size: 6pt;\n",
              "  background-color: #e8e8e8;\n",
              "  color: #000000;\n",
              "}\n",
              "#T_80317_row10_col9 {\n",
              "  font-size: 6pt;\n",
              "  background-color: #f8f8f8;\n",
              "  color: #000000;\n",
              "}\n",
              "#T_80317_row10_col13 {\n",
              "  font-size: 6pt;\n",
              "  background-color: #c1c1c1;\n",
              "  color: #000000;\n",
              "}\n",
              "#T_80317_row11_col11 {\n",
              "  font-size: 6pt;\n",
              "  background-color: #888888;\n",
              "  color: #f1f1f1;\n",
              "}\n",
              "#T_80317_row11_col13, #T_80317_row12_col12, #T_80317_row16_col19 {\n",
              "  font-size: 6pt;\n",
              "  background-color: #515151;\n",
              "  color: #f1f1f1;\n",
              "}\n",
              "#T_80317_row12_col14 {\n",
              "  font-size: 6pt;\n",
              "  background-color: #d4d4d4;\n",
              "  color: #000000;\n",
              "}\n",
              "#T_80317_row13_col12 {\n",
              "  font-size: 6pt;\n",
              "  background-color: #eeeeee;\n",
              "  color: #000000;\n",
              "}\n",
              "#T_80317_row13_col15 {\n",
              "  font-size: 6pt;\n",
              "  background-color: #717171;\n",
              "  color: #f1f1f1;\n",
              "}\n",
              "#T_80317_row13_col16 {\n",
              "  font-size: 6pt;\n",
              "  background-color: #adadad;\n",
              "  color: #000000;\n",
              "}\n",
              "#T_80317_row14_col13, #T_80317_row21_col16 {\n",
              "  font-size: 6pt;\n",
              "  background-color: #cacaca;\n",
              "  color: #000000;\n",
              "}\n",
              "#T_80317_row14_col17 {\n",
              "  font-size: 6pt;\n",
              "  background-color: #9f9f9f;\n",
              "  color: #f1f1f1;\n",
              "}\n",
              "#T_80317_row15_col14 {\n",
              "  font-size: 6pt;\n",
              "  background-color: #e7e7e7;\n",
              "  color: #000000;\n",
              "}\n",
              "#T_80317_row15_col15 {\n",
              "  font-size: 6pt;\n",
              "  background-color: #555555;\n",
              "  color: #f1f1f1;\n",
              "}\n",
              "#T_80317_row15_col18 {\n",
              "  font-size: 6pt;\n",
              "  background-color: #7c7c7c;\n",
              "  color: #f1f1f1;\n",
              "}\n",
              "#T_80317_row15_col19 {\n",
              "  font-size: 6pt;\n",
              "  background-color: #f2f2f2;\n",
              "  color: #000000;\n",
              "}\n",
              "#T_80317_row16_col17 {\n",
              "  font-size: 6pt;\n",
              "  background-color: #010101;\n",
              "  color: #f1f1f1;\n",
              "}\n",
              "#T_80317_row17_col17 {\n",
              "  font-size: 6pt;\n",
              "  background-color: #050505;\n",
              "  color: #f1f1f1;\n",
              "}\n",
              "#T_80317_row17_col20 {\n",
              "  font-size: 6pt;\n",
              "  background-color: #d9d9d9;\n",
              "  color: #000000;\n",
              "}\n",
              "#T_80317_row18_col14 {\n",
              "  font-size: 6pt;\n",
              "  background-color: #e6e6e6;\n",
              "  color: #000000;\n",
              "}\n",
              "#T_80317_row18_col15 {\n",
              "  font-size: 6pt;\n",
              "  background-color: #929292;\n",
              "  color: #f1f1f1;\n",
              "}\n",
              "#T_80317_row18_col16 {\n",
              "  font-size: 6pt;\n",
              "  background-color: #585858;\n",
              "  color: #f1f1f1;\n",
              "}\n",
              "#T_80317_row18_col19 {\n",
              "  font-size: 6pt;\n",
              "  background-color: #353535;\n",
              "  color: #f1f1f1;\n",
              "}\n",
              "#T_80317_row19_col12 {\n",
              "  font-size: 6pt;\n",
              "  background-color: #ebebeb;\n",
              "  color: #000000;\n",
              "}\n",
              "#T_80317_row19_col13 {\n",
              "  font-size: 6pt;\n",
              "  background-color: #7e7e7e;\n",
              "  color: #f1f1f1;\n",
              "}\n",
              "#T_80317_row19_col14 {\n",
              "  font-size: 6pt;\n",
              "  background-color: #1c1c1c;\n",
              "  color: #f1f1f1;\n",
              "}\n",
              "#T_80317_row19_col18 {\n",
              "  font-size: 6pt;\n",
              "  background-color: #030303;\n",
              "  color: #f1f1f1;\n",
              "}\n",
              "#T_80317_row19_col19 {\n",
              "  font-size: 6pt;\n",
              "  background-color: #565656;\n",
              "  color: #f1f1f1;\n",
              "}\n",
              "#T_80317_row20_col10, #T_80317_row21_col8 {\n",
              "  font-size: 6pt;\n",
              "  background-color: #f4f4f4;\n",
              "  color: #000000;\n",
              "}\n",
              "#T_80317_row20_col11 {\n",
              "  font-size: 6pt;\n",
              "  background-color: #a5a5a5;\n",
              "  color: #f1f1f1;\n",
              "}\n",
              "#T_80317_row20_col12 {\n",
              "  font-size: 6pt;\n",
              "  background-color: #252525;\n",
              "  color: #f1f1f1;\n",
              "}\n",
              "#T_80317_row20_col17 {\n",
              "  font-size: 6pt;\n",
              "  background-color: #414141;\n",
              "  color: #f1f1f1;\n",
              "}\n",
              "#T_80317_row20_col18 {\n",
              "  font-size: 6pt;\n",
              "  background-color: #cccccc;\n",
              "  color: #000000;\n",
              "}\n",
              "#T_80317_row21_col9 {\n",
              "  font-size: 6pt;\n",
              "  background-color: #d7d7d7;\n",
              "  color: #000000;\n",
              "}\n",
              "#T_80317_row21_col10 {\n",
              "  font-size: 6pt;\n",
              "  background-color: #303030;\n",
              "  color: #f1f1f1;\n",
              "}\n",
              "#T_80317_row22_col7 {\n",
              "  font-size: 6pt;\n",
              "  background-color: #656565;\n",
              "  color: #f1f1f1;\n",
              "}\n",
              "#T_80317_row22_col13 {\n",
              "  font-size: 6pt;\n",
              "  background-color: #4a4a4a;\n",
              "  color: #f1f1f1;\n",
              "}\n",
              "#T_80317_row22_col15 {\n",
              "  font-size: 6pt;\n",
              "  background-color: #fbfbfb;\n",
              "  color: #000000;\n",
              "}\n",
              "#T_80317_row23_col4 {\n",
              "  font-size: 6pt;\n",
              "  background-color: #b4b4b4;\n",
              "  color: #000000;\n",
              "}\n",
              "#T_80317_row23_col5 {\n",
              "  font-size: 6pt;\n",
              "  background-color: #646464;\n",
              "  color: #f1f1f1;\n",
              "}\n",
              "#T_80317_row23_col6 {\n",
              "  font-size: 6pt;\n",
              "  background-color: #1f1f1f;\n",
              "  color: #f1f1f1;\n",
              "}\n",
              "#T_80317_row23_col11 {\n",
              "  font-size: 6pt;\n",
              "  background-color: #0a0a0a;\n",
              "  color: #f1f1f1;\n",
              "}\n",
              "#T_80317_row23_col12 {\n",
              "  font-size: 6pt;\n",
              "  background-color: #8f8f8f;\n",
              "  color: #f1f1f1;\n",
              "}\n",
              "#T_80317_row24_col8 {\n",
              "  font-size: 6pt;\n",
              "  background-color: #323232;\n",
              "  color: #f1f1f1;\n",
              "}\n",
              "#T_80317_row24_col9 {\n",
              "  font-size: 6pt;\n",
              "  background-color: #8d8d8d;\n",
              "  color: #f1f1f1;\n",
              "}\n",
              "#T_80317_row24_col10 {\n",
              "  font-size: 6pt;\n",
              "  background-color: #909090;\n",
              "  color: #f1f1f1;\n",
              "}\n",
              "</style>\n",
              "<table id=\"T_80317\" class=\"dataframe\">\n",
              "  <thead>\n",
              "    <tr>\n",
              "      <th class=\"blank level0\" >&nbsp;</th>\n",
              "      <th id=\"T_80317_level0_col0\" class=\"col_heading level0 col0\" >0</th>\n",
              "      <th id=\"T_80317_level0_col1\" class=\"col_heading level0 col1\" >1</th>\n",
              "      <th id=\"T_80317_level0_col2\" class=\"col_heading level0 col2\" >2</th>\n",
              "      <th id=\"T_80317_level0_col3\" class=\"col_heading level0 col3\" >3</th>\n",
              "      <th id=\"T_80317_level0_col4\" class=\"col_heading level0 col4\" >4</th>\n",
              "      <th id=\"T_80317_level0_col5\" class=\"col_heading level0 col5\" >5</th>\n",
              "      <th id=\"T_80317_level0_col6\" class=\"col_heading level0 col6\" >6</th>\n",
              "      <th id=\"T_80317_level0_col7\" class=\"col_heading level0 col7\" >7</th>\n",
              "      <th id=\"T_80317_level0_col8\" class=\"col_heading level0 col8\" >8</th>\n",
              "      <th id=\"T_80317_level0_col9\" class=\"col_heading level0 col9\" >9</th>\n",
              "      <th id=\"T_80317_level0_col10\" class=\"col_heading level0 col10\" >10</th>\n",
              "      <th id=\"T_80317_level0_col11\" class=\"col_heading level0 col11\" >11</th>\n",
              "      <th id=\"T_80317_level0_col12\" class=\"col_heading level0 col12\" >12</th>\n",
              "      <th id=\"T_80317_level0_col13\" class=\"col_heading level0 col13\" >13</th>\n",
              "      <th id=\"T_80317_level0_col14\" class=\"col_heading level0 col14\" >14</th>\n",
              "      <th id=\"T_80317_level0_col15\" class=\"col_heading level0 col15\" >15</th>\n",
              "      <th id=\"T_80317_level0_col16\" class=\"col_heading level0 col16\" >16</th>\n",
              "      <th id=\"T_80317_level0_col17\" class=\"col_heading level0 col17\" >17</th>\n",
              "      <th id=\"T_80317_level0_col18\" class=\"col_heading level0 col18\" >18</th>\n",
              "      <th id=\"T_80317_level0_col19\" class=\"col_heading level0 col19\" >19</th>\n",
              "      <th id=\"T_80317_level0_col20\" class=\"col_heading level0 col20\" >20</th>\n",
              "      <th id=\"T_80317_level0_col21\" class=\"col_heading level0 col21\" >21</th>\n",
              "      <th id=\"T_80317_level0_col22\" class=\"col_heading level0 col22\" >22</th>\n",
              "      <th id=\"T_80317_level0_col23\" class=\"col_heading level0 col23\" >23</th>\n",
              "      <th id=\"T_80317_level0_col24\" class=\"col_heading level0 col24\" >24</th>\n",
              "      <th id=\"T_80317_level0_col25\" class=\"col_heading level0 col25\" >25</th>\n",
              "      <th id=\"T_80317_level0_col26\" class=\"col_heading level0 col26\" >26</th>\n",
              "      <th id=\"T_80317_level0_col27\" class=\"col_heading level0 col27\" >27</th>\n",
              "    </tr>\n",
              "  </thead>\n",
              "  <tbody>\n",
              "    <tr>\n",
              "      <th id=\"T_80317_level0_row0\" class=\"row_heading level0 row0\" >0</th>\n",
              "      <td id=\"T_80317_row0_col0\" class=\"data row0 col0\" >0.00</td>\n",
              "      <td id=\"T_80317_row0_col1\" class=\"data row0 col1\" >0.00</td>\n",
              "      <td id=\"T_80317_row0_col2\" class=\"data row0 col2\" >0.00</td>\n",
              "      <td id=\"T_80317_row0_col3\" class=\"data row0 col3\" >0.00</td>\n",
              "      <td id=\"T_80317_row0_col4\" class=\"data row0 col4\" >0.00</td>\n",
              "      <td id=\"T_80317_row0_col5\" class=\"data row0 col5\" >0.00</td>\n",
              "      <td id=\"T_80317_row0_col6\" class=\"data row0 col6\" >0.00</td>\n",
              "      <td id=\"T_80317_row0_col7\" class=\"data row0 col7\" >0.00</td>\n",
              "      <td id=\"T_80317_row0_col8\" class=\"data row0 col8\" >0.00</td>\n",
              "      <td id=\"T_80317_row0_col9\" class=\"data row0 col9\" >0.00</td>\n",
              "      <td id=\"T_80317_row0_col10\" class=\"data row0 col10\" >0.00</td>\n",
              "      <td id=\"T_80317_row0_col11\" class=\"data row0 col11\" >0.00</td>\n",
              "      <td id=\"T_80317_row0_col12\" class=\"data row0 col12\" >0.00</td>\n",
              "      <td id=\"T_80317_row0_col13\" class=\"data row0 col13\" >0.00</td>\n",
              "      <td id=\"T_80317_row0_col14\" class=\"data row0 col14\" >0.00</td>\n",
              "      <td id=\"T_80317_row0_col15\" class=\"data row0 col15\" >0.00</td>\n",
              "      <td id=\"T_80317_row0_col16\" class=\"data row0 col16\" >0.00</td>\n",
              "      <td id=\"T_80317_row0_col17\" class=\"data row0 col17\" >0.00</td>\n",
              "      <td id=\"T_80317_row0_col18\" class=\"data row0 col18\" >0.00</td>\n",
              "      <td id=\"T_80317_row0_col19\" class=\"data row0 col19\" >0.00</td>\n",
              "      <td id=\"T_80317_row0_col20\" class=\"data row0 col20\" >0.00</td>\n",
              "      <td id=\"T_80317_row0_col21\" class=\"data row0 col21\" >0.00</td>\n",
              "      <td id=\"T_80317_row0_col22\" class=\"data row0 col22\" >0.00</td>\n",
              "      <td id=\"T_80317_row0_col23\" class=\"data row0 col23\" >0.00</td>\n",
              "      <td id=\"T_80317_row0_col24\" class=\"data row0 col24\" >0.00</td>\n",
              "      <td id=\"T_80317_row0_col25\" class=\"data row0 col25\" >0.00</td>\n",
              "      <td id=\"T_80317_row0_col26\" class=\"data row0 col26\" >0.00</td>\n",
              "      <td id=\"T_80317_row0_col27\" class=\"data row0 col27\" >0.00</td>\n",
              "    </tr>\n",
              "    <tr>\n",
              "      <th id=\"T_80317_level0_row1\" class=\"row_heading level0 row1\" >1</th>\n",
              "      <td id=\"T_80317_row1_col0\" class=\"data row1 col0\" >0.00</td>\n",
              "      <td id=\"T_80317_row1_col1\" class=\"data row1 col1\" >0.00</td>\n",
              "      <td id=\"T_80317_row1_col2\" class=\"data row1 col2\" >0.00</td>\n",
              "      <td id=\"T_80317_row1_col3\" class=\"data row1 col3\" >0.00</td>\n",
              "      <td id=\"T_80317_row1_col4\" class=\"data row1 col4\" >0.00</td>\n",
              "      <td id=\"T_80317_row1_col5\" class=\"data row1 col5\" >0.00</td>\n",
              "      <td id=\"T_80317_row1_col6\" class=\"data row1 col6\" >0.00</td>\n",
              "      <td id=\"T_80317_row1_col7\" class=\"data row1 col7\" >0.00</td>\n",
              "      <td id=\"T_80317_row1_col8\" class=\"data row1 col8\" >0.00</td>\n",
              "      <td id=\"T_80317_row1_col9\" class=\"data row1 col9\" >0.00</td>\n",
              "      <td id=\"T_80317_row1_col10\" class=\"data row1 col10\" >0.00</td>\n",
              "      <td id=\"T_80317_row1_col11\" class=\"data row1 col11\" >0.00</td>\n",
              "      <td id=\"T_80317_row1_col12\" class=\"data row1 col12\" >0.00</td>\n",
              "      <td id=\"T_80317_row1_col13\" class=\"data row1 col13\" >0.00</td>\n",
              "      <td id=\"T_80317_row1_col14\" class=\"data row1 col14\" >0.00</td>\n",
              "      <td id=\"T_80317_row1_col15\" class=\"data row1 col15\" >0.00</td>\n",
              "      <td id=\"T_80317_row1_col16\" class=\"data row1 col16\" >0.00</td>\n",
              "      <td id=\"T_80317_row1_col17\" class=\"data row1 col17\" >0.00</td>\n",
              "      <td id=\"T_80317_row1_col18\" class=\"data row1 col18\" >0.00</td>\n",
              "      <td id=\"T_80317_row1_col19\" class=\"data row1 col19\" >0.00</td>\n",
              "      <td id=\"T_80317_row1_col20\" class=\"data row1 col20\" >0.00</td>\n",
              "      <td id=\"T_80317_row1_col21\" class=\"data row1 col21\" >0.00</td>\n",
              "      <td id=\"T_80317_row1_col22\" class=\"data row1 col22\" >0.00</td>\n",
              "      <td id=\"T_80317_row1_col23\" class=\"data row1 col23\" >0.00</td>\n",
              "      <td id=\"T_80317_row1_col24\" class=\"data row1 col24\" >0.00</td>\n",
              "      <td id=\"T_80317_row1_col25\" class=\"data row1 col25\" >0.00</td>\n",
              "      <td id=\"T_80317_row1_col26\" class=\"data row1 col26\" >0.00</td>\n",
              "      <td id=\"T_80317_row1_col27\" class=\"data row1 col27\" >0.00</td>\n",
              "    </tr>\n",
              "    <tr>\n",
              "      <th id=\"T_80317_level0_row2\" class=\"row_heading level0 row2\" >2</th>\n",
              "      <td id=\"T_80317_row2_col0\" class=\"data row2 col0\" >0.00</td>\n",
              "      <td id=\"T_80317_row2_col1\" class=\"data row2 col1\" >0.00</td>\n",
              "      <td id=\"T_80317_row2_col2\" class=\"data row2 col2\" >0.00</td>\n",
              "      <td id=\"T_80317_row2_col3\" class=\"data row2 col3\" >0.00</td>\n",
              "      <td id=\"T_80317_row2_col4\" class=\"data row2 col4\" >0.00</td>\n",
              "      <td id=\"T_80317_row2_col5\" class=\"data row2 col5\" >0.00</td>\n",
              "      <td id=\"T_80317_row2_col6\" class=\"data row2 col6\" >0.00</td>\n",
              "      <td id=\"T_80317_row2_col7\" class=\"data row2 col7\" >0.00</td>\n",
              "      <td id=\"T_80317_row2_col8\" class=\"data row2 col8\" >0.00</td>\n",
              "      <td id=\"T_80317_row2_col9\" class=\"data row2 col9\" >0.00</td>\n",
              "      <td id=\"T_80317_row2_col10\" class=\"data row2 col10\" >0.00</td>\n",
              "      <td id=\"T_80317_row2_col11\" class=\"data row2 col11\" >0.00</td>\n",
              "      <td id=\"T_80317_row2_col12\" class=\"data row2 col12\" >0.00</td>\n",
              "      <td id=\"T_80317_row2_col13\" class=\"data row2 col13\" >0.00</td>\n",
              "      <td id=\"T_80317_row2_col14\" class=\"data row2 col14\" >0.00</td>\n",
              "      <td id=\"T_80317_row2_col15\" class=\"data row2 col15\" >0.00</td>\n",
              "      <td id=\"T_80317_row2_col16\" class=\"data row2 col16\" >0.00</td>\n",
              "      <td id=\"T_80317_row2_col17\" class=\"data row2 col17\" >0.00</td>\n",
              "      <td id=\"T_80317_row2_col18\" class=\"data row2 col18\" >0.00</td>\n",
              "      <td id=\"T_80317_row2_col19\" class=\"data row2 col19\" >0.00</td>\n",
              "      <td id=\"T_80317_row2_col20\" class=\"data row2 col20\" >0.00</td>\n",
              "      <td id=\"T_80317_row2_col21\" class=\"data row2 col21\" >0.00</td>\n",
              "      <td id=\"T_80317_row2_col22\" class=\"data row2 col22\" >0.00</td>\n",
              "      <td id=\"T_80317_row2_col23\" class=\"data row2 col23\" >0.00</td>\n",
              "      <td id=\"T_80317_row2_col24\" class=\"data row2 col24\" >0.00</td>\n",
              "      <td id=\"T_80317_row2_col25\" class=\"data row2 col25\" >0.00</td>\n",
              "      <td id=\"T_80317_row2_col26\" class=\"data row2 col26\" >0.00</td>\n",
              "      <td id=\"T_80317_row2_col27\" class=\"data row2 col27\" >0.00</td>\n",
              "    </tr>\n",
              "    <tr>\n",
              "      <th id=\"T_80317_level0_row3\" class=\"row_heading level0 row3\" >3</th>\n",
              "      <td id=\"T_80317_row3_col0\" class=\"data row3 col0\" >0.00</td>\n",
              "      <td id=\"T_80317_row3_col1\" class=\"data row3 col1\" >0.00</td>\n",
              "      <td id=\"T_80317_row3_col2\" class=\"data row3 col2\" >0.00</td>\n",
              "      <td id=\"T_80317_row3_col3\" class=\"data row3 col3\" >0.00</td>\n",
              "      <td id=\"T_80317_row3_col4\" class=\"data row3 col4\" >0.00</td>\n",
              "      <td id=\"T_80317_row3_col5\" class=\"data row3 col5\" >0.00</td>\n",
              "      <td id=\"T_80317_row3_col6\" class=\"data row3 col6\" >0.00</td>\n",
              "      <td id=\"T_80317_row3_col7\" class=\"data row3 col7\" >0.00</td>\n",
              "      <td id=\"T_80317_row3_col8\" class=\"data row3 col8\" >0.00</td>\n",
              "      <td id=\"T_80317_row3_col9\" class=\"data row3 col9\" >0.00</td>\n",
              "      <td id=\"T_80317_row3_col10\" class=\"data row3 col10\" >0.00</td>\n",
              "      <td id=\"T_80317_row3_col11\" class=\"data row3 col11\" >0.00</td>\n",
              "      <td id=\"T_80317_row3_col12\" class=\"data row3 col12\" >0.00</td>\n",
              "      <td id=\"T_80317_row3_col13\" class=\"data row3 col13\" >0.00</td>\n",
              "      <td id=\"T_80317_row3_col14\" class=\"data row3 col14\" >0.00</td>\n",
              "      <td id=\"T_80317_row3_col15\" class=\"data row3 col15\" >0.00</td>\n",
              "      <td id=\"T_80317_row3_col16\" class=\"data row3 col16\" >0.00</td>\n",
              "      <td id=\"T_80317_row3_col17\" class=\"data row3 col17\" >0.00</td>\n",
              "      <td id=\"T_80317_row3_col18\" class=\"data row3 col18\" >0.00</td>\n",
              "      <td id=\"T_80317_row3_col19\" class=\"data row3 col19\" >0.00</td>\n",
              "      <td id=\"T_80317_row3_col20\" class=\"data row3 col20\" >0.00</td>\n",
              "      <td id=\"T_80317_row3_col21\" class=\"data row3 col21\" >0.00</td>\n",
              "      <td id=\"T_80317_row3_col22\" class=\"data row3 col22\" >0.00</td>\n",
              "      <td id=\"T_80317_row3_col23\" class=\"data row3 col23\" >0.00</td>\n",
              "      <td id=\"T_80317_row3_col24\" class=\"data row3 col24\" >0.00</td>\n",
              "      <td id=\"T_80317_row3_col25\" class=\"data row3 col25\" >0.00</td>\n",
              "      <td id=\"T_80317_row3_col26\" class=\"data row3 col26\" >0.00</td>\n",
              "      <td id=\"T_80317_row3_col27\" class=\"data row3 col27\" >0.00</td>\n",
              "    </tr>\n",
              "    <tr>\n",
              "      <th id=\"T_80317_level0_row4\" class=\"row_heading level0 row4\" >4</th>\n",
              "      <td id=\"T_80317_row4_col0\" class=\"data row4 col0\" >0.00</td>\n",
              "      <td id=\"T_80317_row4_col1\" class=\"data row4 col1\" >0.00</td>\n",
              "      <td id=\"T_80317_row4_col2\" class=\"data row4 col2\" >0.00</td>\n",
              "      <td id=\"T_80317_row4_col3\" class=\"data row4 col3\" >0.00</td>\n",
              "      <td id=\"T_80317_row4_col4\" class=\"data row4 col4\" >0.00</td>\n",
              "      <td id=\"T_80317_row4_col5\" class=\"data row4 col5\" >0.00</td>\n",
              "      <td id=\"T_80317_row4_col6\" class=\"data row4 col6\" >0.00</td>\n",
              "      <td id=\"T_80317_row4_col7\" class=\"data row4 col7\" >0.00</td>\n",
              "      <td id=\"T_80317_row4_col8\" class=\"data row4 col8\" >0.00</td>\n",
              "      <td id=\"T_80317_row4_col9\" class=\"data row4 col9\" >0.00</td>\n",
              "      <td id=\"T_80317_row4_col10\" class=\"data row4 col10\" >0.00</td>\n",
              "      <td id=\"T_80317_row4_col11\" class=\"data row4 col11\" >0.00</td>\n",
              "      <td id=\"T_80317_row4_col12\" class=\"data row4 col12\" >0.00</td>\n",
              "      <td id=\"T_80317_row4_col13\" class=\"data row4 col13\" >0.00</td>\n",
              "      <td id=\"T_80317_row4_col14\" class=\"data row4 col14\" >0.00</td>\n",
              "      <td id=\"T_80317_row4_col15\" class=\"data row4 col15\" >0.00</td>\n",
              "      <td id=\"T_80317_row4_col16\" class=\"data row4 col16\" >0.00</td>\n",
              "      <td id=\"T_80317_row4_col17\" class=\"data row4 col17\" >0.00</td>\n",
              "      <td id=\"T_80317_row4_col18\" class=\"data row4 col18\" >0.00</td>\n",
              "      <td id=\"T_80317_row4_col19\" class=\"data row4 col19\" >0.00</td>\n",
              "      <td id=\"T_80317_row4_col20\" class=\"data row4 col20\" >0.00</td>\n",
              "      <td id=\"T_80317_row4_col21\" class=\"data row4 col21\" >0.00</td>\n",
              "      <td id=\"T_80317_row4_col22\" class=\"data row4 col22\" >0.00</td>\n",
              "      <td id=\"T_80317_row4_col23\" class=\"data row4 col23\" >0.00</td>\n",
              "      <td id=\"T_80317_row4_col24\" class=\"data row4 col24\" >0.00</td>\n",
              "      <td id=\"T_80317_row4_col25\" class=\"data row4 col25\" >0.00</td>\n",
              "      <td id=\"T_80317_row4_col26\" class=\"data row4 col26\" >0.00</td>\n",
              "      <td id=\"T_80317_row4_col27\" class=\"data row4 col27\" >0.00</td>\n",
              "    </tr>\n",
              "    <tr>\n",
              "      <th id=\"T_80317_level0_row5\" class=\"row_heading level0 row5\" >5</th>\n",
              "      <td id=\"T_80317_row5_col0\" class=\"data row5 col0\" >0.00</td>\n",
              "      <td id=\"T_80317_row5_col1\" class=\"data row5 col1\" >0.00</td>\n",
              "      <td id=\"T_80317_row5_col2\" class=\"data row5 col2\" >0.00</td>\n",
              "      <td id=\"T_80317_row5_col3\" class=\"data row5 col3\" >0.00</td>\n",
              "      <td id=\"T_80317_row5_col4\" class=\"data row5 col4\" >0.00</td>\n",
              "      <td id=\"T_80317_row5_col5\" class=\"data row5 col5\" >0.00</td>\n",
              "      <td id=\"T_80317_row5_col6\" class=\"data row5 col6\" >0.00</td>\n",
              "      <td id=\"T_80317_row5_col7\" class=\"data row5 col7\" >0.00</td>\n",
              "      <td id=\"T_80317_row5_col8\" class=\"data row5 col8\" >0.00</td>\n",
              "      <td id=\"T_80317_row5_col9\" class=\"data row5 col9\" >0.00</td>\n",
              "      <td id=\"T_80317_row5_col10\" class=\"data row5 col10\" >0.00</td>\n",
              "      <td id=\"T_80317_row5_col11\" class=\"data row5 col11\" >0.00</td>\n",
              "      <td id=\"T_80317_row5_col12\" class=\"data row5 col12\" >0.01</td>\n",
              "      <td id=\"T_80317_row5_col13\" class=\"data row5 col13\" >0.07</td>\n",
              "      <td id=\"T_80317_row5_col14\" class=\"data row5 col14\" >0.07</td>\n",
              "      <td id=\"T_80317_row5_col15\" class=\"data row5 col15\" >0.07</td>\n",
              "      <td id=\"T_80317_row5_col16\" class=\"data row5 col16\" >0.49</td>\n",
              "      <td id=\"T_80317_row5_col17\" class=\"data row5 col17\" >0.53</td>\n",
              "      <td id=\"T_80317_row5_col18\" class=\"data row5 col18\" >0.69</td>\n",
              "      <td id=\"T_80317_row5_col19\" class=\"data row5 col19\" >0.10</td>\n",
              "      <td id=\"T_80317_row5_col20\" class=\"data row5 col20\" >0.65</td>\n",
              "      <td id=\"T_80317_row5_col21\" class=\"data row5 col21\" >1.00</td>\n",
              "      <td id=\"T_80317_row5_col22\" class=\"data row5 col22\" >0.97</td>\n",
              "      <td id=\"T_80317_row5_col23\" class=\"data row5 col23\" >0.50</td>\n",
              "      <td id=\"T_80317_row5_col24\" class=\"data row5 col24\" >0.00</td>\n",
              "      <td id=\"T_80317_row5_col25\" class=\"data row5 col25\" >0.00</td>\n",
              "      <td id=\"T_80317_row5_col26\" class=\"data row5 col26\" >0.00</td>\n",
              "      <td id=\"T_80317_row5_col27\" class=\"data row5 col27\" >0.00</td>\n",
              "    </tr>\n",
              "    <tr>\n",
              "      <th id=\"T_80317_level0_row6\" class=\"row_heading level0 row6\" >6</th>\n",
              "      <td id=\"T_80317_row6_col0\" class=\"data row6 col0\" >0.00</td>\n",
              "      <td id=\"T_80317_row6_col1\" class=\"data row6 col1\" >0.00</td>\n",
              "      <td id=\"T_80317_row6_col2\" class=\"data row6 col2\" >0.00</td>\n",
              "      <td id=\"T_80317_row6_col3\" class=\"data row6 col3\" >0.00</td>\n",
              "      <td id=\"T_80317_row6_col4\" class=\"data row6 col4\" >0.00</td>\n",
              "      <td id=\"T_80317_row6_col5\" class=\"data row6 col5\" >0.00</td>\n",
              "      <td id=\"T_80317_row6_col6\" class=\"data row6 col6\" >0.00</td>\n",
              "      <td id=\"T_80317_row6_col7\" class=\"data row6 col7\" >0.00</td>\n",
              "      <td id=\"T_80317_row6_col8\" class=\"data row6 col8\" >0.12</td>\n",
              "      <td id=\"T_80317_row6_col9\" class=\"data row6 col9\" >0.14</td>\n",
              "      <td id=\"T_80317_row6_col10\" class=\"data row6 col10\" >0.37</td>\n",
              "      <td id=\"T_80317_row6_col11\" class=\"data row6 col11\" >0.60</td>\n",
              "      <td id=\"T_80317_row6_col12\" class=\"data row6 col12\" >0.67</td>\n",
              "      <td id=\"T_80317_row6_col13\" class=\"data row6 col13\" >0.99</td>\n",
              "      <td id=\"T_80317_row6_col14\" class=\"data row6 col14\" >0.99</td>\n",
              "      <td id=\"T_80317_row6_col15\" class=\"data row6 col15\" >0.99</td>\n",
              "      <td id=\"T_80317_row6_col16\" class=\"data row6 col16\" >0.99</td>\n",
              "      <td id=\"T_80317_row6_col17\" class=\"data row6 col17\" >0.99</td>\n",
              "      <td id=\"T_80317_row6_col18\" class=\"data row6 col18\" >0.88</td>\n",
              "      <td id=\"T_80317_row6_col19\" class=\"data row6 col19\" >0.67</td>\n",
              "      <td id=\"T_80317_row6_col20\" class=\"data row6 col20\" >0.99</td>\n",
              "      <td id=\"T_80317_row6_col21\" class=\"data row6 col21\" >0.95</td>\n",
              "      <td id=\"T_80317_row6_col22\" class=\"data row6 col22\" >0.76</td>\n",
              "      <td id=\"T_80317_row6_col23\" class=\"data row6 col23\" >0.25</td>\n",
              "      <td id=\"T_80317_row6_col24\" class=\"data row6 col24\" >0.00</td>\n",
              "      <td id=\"T_80317_row6_col25\" class=\"data row6 col25\" >0.00</td>\n",
              "      <td id=\"T_80317_row6_col26\" class=\"data row6 col26\" >0.00</td>\n",
              "      <td id=\"T_80317_row6_col27\" class=\"data row6 col27\" >0.00</td>\n",
              "    </tr>\n",
              "    <tr>\n",
              "      <th id=\"T_80317_level0_row7\" class=\"row_heading level0 row7\" >7</th>\n",
              "      <td id=\"T_80317_row7_col0\" class=\"data row7 col0\" >0.00</td>\n",
              "      <td id=\"T_80317_row7_col1\" class=\"data row7 col1\" >0.00</td>\n",
              "      <td id=\"T_80317_row7_col2\" class=\"data row7 col2\" >0.00</td>\n",
              "      <td id=\"T_80317_row7_col3\" class=\"data row7 col3\" >0.00</td>\n",
              "      <td id=\"T_80317_row7_col4\" class=\"data row7 col4\" >0.00</td>\n",
              "      <td id=\"T_80317_row7_col5\" class=\"data row7 col5\" >0.00</td>\n",
              "      <td id=\"T_80317_row7_col6\" class=\"data row7 col6\" >0.00</td>\n",
              "      <td id=\"T_80317_row7_col7\" class=\"data row7 col7\" >0.19</td>\n",
              "      <td id=\"T_80317_row7_col8\" class=\"data row7 col8\" >0.93</td>\n",
              "      <td id=\"T_80317_row7_col9\" class=\"data row7 col9\" >0.99</td>\n",
              "      <td id=\"T_80317_row7_col10\" class=\"data row7 col10\" >0.99</td>\n",
              "      <td id=\"T_80317_row7_col11\" class=\"data row7 col11\" >0.99</td>\n",
              "      <td id=\"T_80317_row7_col12\" class=\"data row7 col12\" >0.99</td>\n",
              "      <td id=\"T_80317_row7_col13\" class=\"data row7 col13\" >0.99</td>\n",
              "      <td id=\"T_80317_row7_col14\" class=\"data row7 col14\" >0.99</td>\n",
              "      <td id=\"T_80317_row7_col15\" class=\"data row7 col15\" >0.99</td>\n",
              "      <td id=\"T_80317_row7_col16\" class=\"data row7 col16\" >0.99</td>\n",
              "      <td id=\"T_80317_row7_col17\" class=\"data row7 col17\" >0.98</td>\n",
              "      <td id=\"T_80317_row7_col18\" class=\"data row7 col18\" >0.36</td>\n",
              "      <td id=\"T_80317_row7_col19\" class=\"data row7 col19\" >0.32</td>\n",
              "      <td id=\"T_80317_row7_col20\" class=\"data row7 col20\" >0.32</td>\n",
              "      <td id=\"T_80317_row7_col21\" class=\"data row7 col21\" >0.22</td>\n",
              "      <td id=\"T_80317_row7_col22\" class=\"data row7 col22\" >0.15</td>\n",
              "      <td id=\"T_80317_row7_col23\" class=\"data row7 col23\" >0.00</td>\n",
              "      <td id=\"T_80317_row7_col24\" class=\"data row7 col24\" >0.00</td>\n",
              "      <td id=\"T_80317_row7_col25\" class=\"data row7 col25\" >0.00</td>\n",
              "      <td id=\"T_80317_row7_col26\" class=\"data row7 col26\" >0.00</td>\n",
              "      <td id=\"T_80317_row7_col27\" class=\"data row7 col27\" >0.00</td>\n",
              "    </tr>\n",
              "    <tr>\n",
              "      <th id=\"T_80317_level0_row8\" class=\"row_heading level0 row8\" >8</th>\n",
              "      <td id=\"T_80317_row8_col0\" class=\"data row8 col0\" >0.00</td>\n",
              "      <td id=\"T_80317_row8_col1\" class=\"data row8 col1\" >0.00</td>\n",
              "      <td id=\"T_80317_row8_col2\" class=\"data row8 col2\" >0.00</td>\n",
              "      <td id=\"T_80317_row8_col3\" class=\"data row8 col3\" >0.00</td>\n",
              "      <td id=\"T_80317_row8_col4\" class=\"data row8 col4\" >0.00</td>\n",
              "      <td id=\"T_80317_row8_col5\" class=\"data row8 col5\" >0.00</td>\n",
              "      <td id=\"T_80317_row8_col6\" class=\"data row8 col6\" >0.00</td>\n",
              "      <td id=\"T_80317_row8_col7\" class=\"data row8 col7\" >0.07</td>\n",
              "      <td id=\"T_80317_row8_col8\" class=\"data row8 col8\" >0.86</td>\n",
              "      <td id=\"T_80317_row8_col9\" class=\"data row8 col9\" >0.99</td>\n",
              "      <td id=\"T_80317_row8_col10\" class=\"data row8 col10\" >0.99</td>\n",
              "      <td id=\"T_80317_row8_col11\" class=\"data row8 col11\" >0.99</td>\n",
              "      <td id=\"T_80317_row8_col12\" class=\"data row8 col12\" >0.99</td>\n",
              "      <td id=\"T_80317_row8_col13\" class=\"data row8 col13\" >0.99</td>\n",
              "      <td id=\"T_80317_row8_col14\" class=\"data row8 col14\" >0.78</td>\n",
              "      <td id=\"T_80317_row8_col15\" class=\"data row8 col15\" >0.71</td>\n",
              "      <td id=\"T_80317_row8_col16\" class=\"data row8 col16\" >0.97</td>\n",
              "      <td id=\"T_80317_row8_col17\" class=\"data row8 col17\" >0.95</td>\n",
              "      <td id=\"T_80317_row8_col18\" class=\"data row8 col18\" >0.00</td>\n",
              "      <td id=\"T_80317_row8_col19\" class=\"data row8 col19\" >0.00</td>\n",
              "      <td id=\"T_80317_row8_col20\" class=\"data row8 col20\" >0.00</td>\n",
              "      <td id=\"T_80317_row8_col21\" class=\"data row8 col21\" >0.00</td>\n",
              "      <td id=\"T_80317_row8_col22\" class=\"data row8 col22\" >0.00</td>\n",
              "      <td id=\"T_80317_row8_col23\" class=\"data row8 col23\" >0.00</td>\n",
              "      <td id=\"T_80317_row8_col24\" class=\"data row8 col24\" >0.00</td>\n",
              "      <td id=\"T_80317_row8_col25\" class=\"data row8 col25\" >0.00</td>\n",
              "      <td id=\"T_80317_row8_col26\" class=\"data row8 col26\" >0.00</td>\n",
              "      <td id=\"T_80317_row8_col27\" class=\"data row8 col27\" >0.00</td>\n",
              "    </tr>\n",
              "    <tr>\n",
              "      <th id=\"T_80317_level0_row9\" class=\"row_heading level0 row9\" >9</th>\n",
              "      <td id=\"T_80317_row9_col0\" class=\"data row9 col0\" >0.00</td>\n",
              "      <td id=\"T_80317_row9_col1\" class=\"data row9 col1\" >0.00</td>\n",
              "      <td id=\"T_80317_row9_col2\" class=\"data row9 col2\" >0.00</td>\n",
              "      <td id=\"T_80317_row9_col3\" class=\"data row9 col3\" >0.00</td>\n",
              "      <td id=\"T_80317_row9_col4\" class=\"data row9 col4\" >0.00</td>\n",
              "      <td id=\"T_80317_row9_col5\" class=\"data row9 col5\" >0.00</td>\n",
              "      <td id=\"T_80317_row9_col6\" class=\"data row9 col6\" >0.00</td>\n",
              "      <td id=\"T_80317_row9_col7\" class=\"data row9 col7\" >0.00</td>\n",
              "      <td id=\"T_80317_row9_col8\" class=\"data row9 col8\" >0.31</td>\n",
              "      <td id=\"T_80317_row9_col9\" class=\"data row9 col9\" >0.61</td>\n",
              "      <td id=\"T_80317_row9_col10\" class=\"data row9 col10\" >0.42</td>\n",
              "      <td id=\"T_80317_row9_col11\" class=\"data row9 col11\" >0.99</td>\n",
              "      <td id=\"T_80317_row9_col12\" class=\"data row9 col12\" >0.99</td>\n",
              "      <td id=\"T_80317_row9_col13\" class=\"data row9 col13\" >0.80</td>\n",
              "      <td id=\"T_80317_row9_col14\" class=\"data row9 col14\" >0.04</td>\n",
              "      <td id=\"T_80317_row9_col15\" class=\"data row9 col15\" >0.00</td>\n",
              "      <td id=\"T_80317_row9_col16\" class=\"data row9 col16\" >0.17</td>\n",
              "      <td id=\"T_80317_row9_col17\" class=\"data row9 col17\" >0.60</td>\n",
              "      <td id=\"T_80317_row9_col18\" class=\"data row9 col18\" >0.00</td>\n",
              "      <td id=\"T_80317_row9_col19\" class=\"data row9 col19\" >0.00</td>\n",
              "      <td id=\"T_80317_row9_col20\" class=\"data row9 col20\" >0.00</td>\n",
              "      <td id=\"T_80317_row9_col21\" class=\"data row9 col21\" >0.00</td>\n",
              "      <td id=\"T_80317_row9_col22\" class=\"data row9 col22\" >0.00</td>\n",
              "      <td id=\"T_80317_row9_col23\" class=\"data row9 col23\" >0.00</td>\n",
              "      <td id=\"T_80317_row9_col24\" class=\"data row9 col24\" >0.00</td>\n",
              "      <td id=\"T_80317_row9_col25\" class=\"data row9 col25\" >0.00</td>\n",
              "      <td id=\"T_80317_row9_col26\" class=\"data row9 col26\" >0.00</td>\n",
              "      <td id=\"T_80317_row9_col27\" class=\"data row9 col27\" >0.00</td>\n",
              "    </tr>\n",
              "    <tr>\n",
              "      <th id=\"T_80317_level0_row10\" class=\"row_heading level0 row10\" >10</th>\n",
              "      <td id=\"T_80317_row10_col0\" class=\"data row10 col0\" >0.00</td>\n",
              "      <td id=\"T_80317_row10_col1\" class=\"data row10 col1\" >0.00</td>\n",
              "      <td id=\"T_80317_row10_col2\" class=\"data row10 col2\" >0.00</td>\n",
              "      <td id=\"T_80317_row10_col3\" class=\"data row10 col3\" >0.00</td>\n",
              "      <td id=\"T_80317_row10_col4\" class=\"data row10 col4\" >0.00</td>\n",
              "      <td id=\"T_80317_row10_col5\" class=\"data row10 col5\" >0.00</td>\n",
              "      <td id=\"T_80317_row10_col6\" class=\"data row10 col6\" >0.00</td>\n",
              "      <td id=\"T_80317_row10_col7\" class=\"data row10 col7\" >0.00</td>\n",
              "      <td id=\"T_80317_row10_col8\" class=\"data row10 col8\" >0.00</td>\n",
              "      <td id=\"T_80317_row10_col9\" class=\"data row10 col9\" >0.05</td>\n",
              "      <td id=\"T_80317_row10_col10\" class=\"data row10 col10\" >0.00</td>\n",
              "      <td id=\"T_80317_row10_col11\" class=\"data row10 col11\" >0.60</td>\n",
              "      <td id=\"T_80317_row10_col12\" class=\"data row10 col12\" >0.99</td>\n",
              "      <td id=\"T_80317_row10_col13\" class=\"data row10 col13\" >0.35</td>\n",
              "      <td id=\"T_80317_row10_col14\" class=\"data row10 col14\" >0.00</td>\n",
              "      <td id=\"T_80317_row10_col15\" class=\"data row10 col15\" >0.00</td>\n",
              "      <td id=\"T_80317_row10_col16\" class=\"data row10 col16\" >0.00</td>\n",
              "      <td id=\"T_80317_row10_col17\" class=\"data row10 col17\" >0.00</td>\n",
              "      <td id=\"T_80317_row10_col18\" class=\"data row10 col18\" >0.00</td>\n",
              "      <td id=\"T_80317_row10_col19\" class=\"data row10 col19\" >0.00</td>\n",
              "      <td id=\"T_80317_row10_col20\" class=\"data row10 col20\" >0.00</td>\n",
              "      <td id=\"T_80317_row10_col21\" class=\"data row10 col21\" >0.00</td>\n",
              "      <td id=\"T_80317_row10_col22\" class=\"data row10 col22\" >0.00</td>\n",
              "      <td id=\"T_80317_row10_col23\" class=\"data row10 col23\" >0.00</td>\n",
              "      <td id=\"T_80317_row10_col24\" class=\"data row10 col24\" >0.00</td>\n",
              "      <td id=\"T_80317_row10_col25\" class=\"data row10 col25\" >0.00</td>\n",
              "      <td id=\"T_80317_row10_col26\" class=\"data row10 col26\" >0.00</td>\n",
              "      <td id=\"T_80317_row10_col27\" class=\"data row10 col27\" >0.00</td>\n",
              "    </tr>\n",
              "    <tr>\n",
              "      <th id=\"T_80317_level0_row11\" class=\"row_heading level0 row11\" >11</th>\n",
              "      <td id=\"T_80317_row11_col0\" class=\"data row11 col0\" >0.00</td>\n",
              "      <td id=\"T_80317_row11_col1\" class=\"data row11 col1\" >0.00</td>\n",
              "      <td id=\"T_80317_row11_col2\" class=\"data row11 col2\" >0.00</td>\n",
              "      <td id=\"T_80317_row11_col3\" class=\"data row11 col3\" >0.00</td>\n",
              "      <td id=\"T_80317_row11_col4\" class=\"data row11 col4\" >0.00</td>\n",
              "      <td id=\"T_80317_row11_col5\" class=\"data row11 col5\" >0.00</td>\n",
              "      <td id=\"T_80317_row11_col6\" class=\"data row11 col6\" >0.00</td>\n",
              "      <td id=\"T_80317_row11_col7\" class=\"data row11 col7\" >0.00</td>\n",
              "      <td id=\"T_80317_row11_col8\" class=\"data row11 col8\" >0.00</td>\n",
              "      <td id=\"T_80317_row11_col9\" class=\"data row11 col9\" >0.00</td>\n",
              "      <td id=\"T_80317_row11_col10\" class=\"data row11 col10\" >0.00</td>\n",
              "      <td id=\"T_80317_row11_col11\" class=\"data row11 col11\" >0.55</td>\n",
              "      <td id=\"T_80317_row11_col12\" class=\"data row11 col12\" >0.99</td>\n",
              "      <td id=\"T_80317_row11_col13\" class=\"data row11 col13\" >0.75</td>\n",
              "      <td id=\"T_80317_row11_col14\" class=\"data row11 col14\" >0.01</td>\n",
              "      <td id=\"T_80317_row11_col15\" class=\"data row11 col15\" >0.00</td>\n",
              "      <td id=\"T_80317_row11_col16\" class=\"data row11 col16\" >0.00</td>\n",
              "      <td id=\"T_80317_row11_col17\" class=\"data row11 col17\" >0.00</td>\n",
              "      <td id=\"T_80317_row11_col18\" class=\"data row11 col18\" >0.00</td>\n",
              "      <td id=\"T_80317_row11_col19\" class=\"data row11 col19\" >0.00</td>\n",
              "      <td id=\"T_80317_row11_col20\" class=\"data row11 col20\" >0.00</td>\n",
              "      <td id=\"T_80317_row11_col21\" class=\"data row11 col21\" >0.00</td>\n",
              "      <td id=\"T_80317_row11_col22\" class=\"data row11 col22\" >0.00</td>\n",
              "      <td id=\"T_80317_row11_col23\" class=\"data row11 col23\" >0.00</td>\n",
              "      <td id=\"T_80317_row11_col24\" class=\"data row11 col24\" >0.00</td>\n",
              "      <td id=\"T_80317_row11_col25\" class=\"data row11 col25\" >0.00</td>\n",
              "      <td id=\"T_80317_row11_col26\" class=\"data row11 col26\" >0.00</td>\n",
              "      <td id=\"T_80317_row11_col27\" class=\"data row11 col27\" >0.00</td>\n",
              "    </tr>\n",
              "    <tr>\n",
              "      <th id=\"T_80317_level0_row12\" class=\"row_heading level0 row12\" >12</th>\n",
              "      <td id=\"T_80317_row12_col0\" class=\"data row12 col0\" >0.00</td>\n",
              "      <td id=\"T_80317_row12_col1\" class=\"data row12 col1\" >0.00</td>\n",
              "      <td id=\"T_80317_row12_col2\" class=\"data row12 col2\" >0.00</td>\n",
              "      <td id=\"T_80317_row12_col3\" class=\"data row12 col3\" >0.00</td>\n",
              "      <td id=\"T_80317_row12_col4\" class=\"data row12 col4\" >0.00</td>\n",
              "      <td id=\"T_80317_row12_col5\" class=\"data row12 col5\" >0.00</td>\n",
              "      <td id=\"T_80317_row12_col6\" class=\"data row12 col6\" >0.00</td>\n",
              "      <td id=\"T_80317_row12_col7\" class=\"data row12 col7\" >0.00</td>\n",
              "      <td id=\"T_80317_row12_col8\" class=\"data row12 col8\" >0.00</td>\n",
              "      <td id=\"T_80317_row12_col9\" class=\"data row12 col9\" >0.00</td>\n",
              "      <td id=\"T_80317_row12_col10\" class=\"data row12 col10\" >0.00</td>\n",
              "      <td id=\"T_80317_row12_col11\" class=\"data row12 col11\" >0.04</td>\n",
              "      <td id=\"T_80317_row12_col12\" class=\"data row12 col12\" >0.75</td>\n",
              "      <td id=\"T_80317_row12_col13\" class=\"data row12 col13\" >0.99</td>\n",
              "      <td id=\"T_80317_row12_col14\" class=\"data row12 col14\" >0.27</td>\n",
              "      <td id=\"T_80317_row12_col15\" class=\"data row12 col15\" >0.00</td>\n",
              "      <td id=\"T_80317_row12_col16\" class=\"data row12 col16\" >0.00</td>\n",
              "      <td id=\"T_80317_row12_col17\" class=\"data row12 col17\" >0.00</td>\n",
              "      <td id=\"T_80317_row12_col18\" class=\"data row12 col18\" >0.00</td>\n",
              "      <td id=\"T_80317_row12_col19\" class=\"data row12 col19\" >0.00</td>\n",
              "      <td id=\"T_80317_row12_col20\" class=\"data row12 col20\" >0.00</td>\n",
              "      <td id=\"T_80317_row12_col21\" class=\"data row12 col21\" >0.00</td>\n",
              "      <td id=\"T_80317_row12_col22\" class=\"data row12 col22\" >0.00</td>\n",
              "      <td id=\"T_80317_row12_col23\" class=\"data row12 col23\" >0.00</td>\n",
              "      <td id=\"T_80317_row12_col24\" class=\"data row12 col24\" >0.00</td>\n",
              "      <td id=\"T_80317_row12_col25\" class=\"data row12 col25\" >0.00</td>\n",
              "      <td id=\"T_80317_row12_col26\" class=\"data row12 col26\" >0.00</td>\n",
              "      <td id=\"T_80317_row12_col27\" class=\"data row12 col27\" >0.00</td>\n",
              "    </tr>\n",
              "    <tr>\n",
              "      <th id=\"T_80317_level0_row13\" class=\"row_heading level0 row13\" >13</th>\n",
              "      <td id=\"T_80317_row13_col0\" class=\"data row13 col0\" >0.00</td>\n",
              "      <td id=\"T_80317_row13_col1\" class=\"data row13 col1\" >0.00</td>\n",
              "      <td id=\"T_80317_row13_col2\" class=\"data row13 col2\" >0.00</td>\n",
              "      <td id=\"T_80317_row13_col3\" class=\"data row13 col3\" >0.00</td>\n",
              "      <td id=\"T_80317_row13_col4\" class=\"data row13 col4\" >0.00</td>\n",
              "      <td id=\"T_80317_row13_col5\" class=\"data row13 col5\" >0.00</td>\n",
              "      <td id=\"T_80317_row13_col6\" class=\"data row13 col6\" >0.00</td>\n",
              "      <td id=\"T_80317_row13_col7\" class=\"data row13 col7\" >0.00</td>\n",
              "      <td id=\"T_80317_row13_col8\" class=\"data row13 col8\" >0.00</td>\n",
              "      <td id=\"T_80317_row13_col9\" class=\"data row13 col9\" >0.00</td>\n",
              "      <td id=\"T_80317_row13_col10\" class=\"data row13 col10\" >0.00</td>\n",
              "      <td id=\"T_80317_row13_col11\" class=\"data row13 col11\" >0.00</td>\n",
              "      <td id=\"T_80317_row13_col12\" class=\"data row13 col12\" >0.14</td>\n",
              "      <td id=\"T_80317_row13_col13\" class=\"data row13 col13\" >0.95</td>\n",
              "      <td id=\"T_80317_row13_col14\" class=\"data row13 col14\" >0.88</td>\n",
              "      <td id=\"T_80317_row13_col15\" class=\"data row13 col15\" >0.63</td>\n",
              "      <td id=\"T_80317_row13_col16\" class=\"data row13 col16\" >0.42</td>\n",
              "      <td id=\"T_80317_row13_col17\" class=\"data row13 col17\" >0.00</td>\n",
              "      <td id=\"T_80317_row13_col18\" class=\"data row13 col18\" >0.00</td>\n",
              "      <td id=\"T_80317_row13_col19\" class=\"data row13 col19\" >0.00</td>\n",
              "      <td id=\"T_80317_row13_col20\" class=\"data row13 col20\" >0.00</td>\n",
              "      <td id=\"T_80317_row13_col21\" class=\"data row13 col21\" >0.00</td>\n",
              "      <td id=\"T_80317_row13_col22\" class=\"data row13 col22\" >0.00</td>\n",
              "      <td id=\"T_80317_row13_col23\" class=\"data row13 col23\" >0.00</td>\n",
              "      <td id=\"T_80317_row13_col24\" class=\"data row13 col24\" >0.00</td>\n",
              "      <td id=\"T_80317_row13_col25\" class=\"data row13 col25\" >0.00</td>\n",
              "      <td id=\"T_80317_row13_col26\" class=\"data row13 col26\" >0.00</td>\n",
              "      <td id=\"T_80317_row13_col27\" class=\"data row13 col27\" >0.00</td>\n",
              "    </tr>\n",
              "    <tr>\n",
              "      <th id=\"T_80317_level0_row14\" class=\"row_heading level0 row14\" >14</th>\n",
              "      <td id=\"T_80317_row14_col0\" class=\"data row14 col0\" >0.00</td>\n",
              "      <td id=\"T_80317_row14_col1\" class=\"data row14 col1\" >0.00</td>\n",
              "      <td id=\"T_80317_row14_col2\" class=\"data row14 col2\" >0.00</td>\n",
              "      <td id=\"T_80317_row14_col3\" class=\"data row14 col3\" >0.00</td>\n",
              "      <td id=\"T_80317_row14_col4\" class=\"data row14 col4\" >0.00</td>\n",
              "      <td id=\"T_80317_row14_col5\" class=\"data row14 col5\" >0.00</td>\n",
              "      <td id=\"T_80317_row14_col6\" class=\"data row14 col6\" >0.00</td>\n",
              "      <td id=\"T_80317_row14_col7\" class=\"data row14 col7\" >0.00</td>\n",
              "      <td id=\"T_80317_row14_col8\" class=\"data row14 col8\" >0.00</td>\n",
              "      <td id=\"T_80317_row14_col9\" class=\"data row14 col9\" >0.00</td>\n",
              "      <td id=\"T_80317_row14_col10\" class=\"data row14 col10\" >0.00</td>\n",
              "      <td id=\"T_80317_row14_col11\" class=\"data row14 col11\" >0.00</td>\n",
              "      <td id=\"T_80317_row14_col12\" class=\"data row14 col12\" >0.00</td>\n",
              "      <td id=\"T_80317_row14_col13\" class=\"data row14 col13\" >0.32</td>\n",
              "      <td id=\"T_80317_row14_col14\" class=\"data row14 col14\" >0.94</td>\n",
              "      <td id=\"T_80317_row14_col15\" class=\"data row14 col15\" >0.99</td>\n",
              "      <td id=\"T_80317_row14_col16\" class=\"data row14 col16\" >0.99</td>\n",
              "      <td id=\"T_80317_row14_col17\" class=\"data row14 col17\" >0.47</td>\n",
              "      <td id=\"T_80317_row14_col18\" class=\"data row14 col18\" >0.10</td>\n",
              "      <td id=\"T_80317_row14_col19\" class=\"data row14 col19\" >0.00</td>\n",
              "      <td id=\"T_80317_row14_col20\" class=\"data row14 col20\" >0.00</td>\n",
              "      <td id=\"T_80317_row14_col21\" class=\"data row14 col21\" >0.00</td>\n",
              "      <td id=\"T_80317_row14_col22\" class=\"data row14 col22\" >0.00</td>\n",
              "      <td id=\"T_80317_row14_col23\" class=\"data row14 col23\" >0.00</td>\n",
              "      <td id=\"T_80317_row14_col24\" class=\"data row14 col24\" >0.00</td>\n",
              "      <td id=\"T_80317_row14_col25\" class=\"data row14 col25\" >0.00</td>\n",
              "      <td id=\"T_80317_row14_col26\" class=\"data row14 col26\" >0.00</td>\n",
              "      <td id=\"T_80317_row14_col27\" class=\"data row14 col27\" >0.00</td>\n",
              "    </tr>\n",
              "    <tr>\n",
              "      <th id=\"T_80317_level0_row15\" class=\"row_heading level0 row15\" >15</th>\n",
              "      <td id=\"T_80317_row15_col0\" class=\"data row15 col0\" >0.00</td>\n",
              "      <td id=\"T_80317_row15_col1\" class=\"data row15 col1\" >0.00</td>\n",
              "      <td id=\"T_80317_row15_col2\" class=\"data row15 col2\" >0.00</td>\n",
              "      <td id=\"T_80317_row15_col3\" class=\"data row15 col3\" >0.00</td>\n",
              "      <td id=\"T_80317_row15_col4\" class=\"data row15 col4\" >0.00</td>\n",
              "      <td id=\"T_80317_row15_col5\" class=\"data row15 col5\" >0.00</td>\n",
              "      <td id=\"T_80317_row15_col6\" class=\"data row15 col6\" >0.00</td>\n",
              "      <td id=\"T_80317_row15_col7\" class=\"data row15 col7\" >0.00</td>\n",
              "      <td id=\"T_80317_row15_col8\" class=\"data row15 col8\" >0.00</td>\n",
              "      <td id=\"T_80317_row15_col9\" class=\"data row15 col9\" >0.00</td>\n",
              "      <td id=\"T_80317_row15_col10\" class=\"data row15 col10\" >0.00</td>\n",
              "      <td id=\"T_80317_row15_col11\" class=\"data row15 col11\" >0.00</td>\n",
              "      <td id=\"T_80317_row15_col12\" class=\"data row15 col12\" >0.00</td>\n",
              "      <td id=\"T_80317_row15_col13\" class=\"data row15 col13\" >0.00</td>\n",
              "      <td id=\"T_80317_row15_col14\" class=\"data row15 col14\" >0.18</td>\n",
              "      <td id=\"T_80317_row15_col15\" class=\"data row15 col15\" >0.73</td>\n",
              "      <td id=\"T_80317_row15_col16\" class=\"data row15 col16\" >0.99</td>\n",
              "      <td id=\"T_80317_row15_col17\" class=\"data row15 col17\" >0.99</td>\n",
              "      <td id=\"T_80317_row15_col18\" class=\"data row15 col18\" >0.59</td>\n",
              "      <td id=\"T_80317_row15_col19\" class=\"data row15 col19\" >0.11</td>\n",
              "      <td id=\"T_80317_row15_col20\" class=\"data row15 col20\" >0.00</td>\n",
              "      <td id=\"T_80317_row15_col21\" class=\"data row15 col21\" >0.00</td>\n",
              "      <td id=\"T_80317_row15_col22\" class=\"data row15 col22\" >0.00</td>\n",
              "      <td id=\"T_80317_row15_col23\" class=\"data row15 col23\" >0.00</td>\n",
              "      <td id=\"T_80317_row15_col24\" class=\"data row15 col24\" >0.00</td>\n",
              "      <td id=\"T_80317_row15_col25\" class=\"data row15 col25\" >0.00</td>\n",
              "      <td id=\"T_80317_row15_col26\" class=\"data row15 col26\" >0.00</td>\n",
              "      <td id=\"T_80317_row15_col27\" class=\"data row15 col27\" >0.00</td>\n",
              "    </tr>\n",
              "    <tr>\n",
              "      <th id=\"T_80317_level0_row16\" class=\"row_heading level0 row16\" >16</th>\n",
              "      <td id=\"T_80317_row16_col0\" class=\"data row16 col0\" >0.00</td>\n",
              "      <td id=\"T_80317_row16_col1\" class=\"data row16 col1\" >0.00</td>\n",
              "      <td id=\"T_80317_row16_col2\" class=\"data row16 col2\" >0.00</td>\n",
              "      <td id=\"T_80317_row16_col3\" class=\"data row16 col3\" >0.00</td>\n",
              "      <td id=\"T_80317_row16_col4\" class=\"data row16 col4\" >0.00</td>\n",
              "      <td id=\"T_80317_row16_col5\" class=\"data row16 col5\" >0.00</td>\n",
              "      <td id=\"T_80317_row16_col6\" class=\"data row16 col6\" >0.00</td>\n",
              "      <td id=\"T_80317_row16_col7\" class=\"data row16 col7\" >0.00</td>\n",
              "      <td id=\"T_80317_row16_col8\" class=\"data row16 col8\" >0.00</td>\n",
              "      <td id=\"T_80317_row16_col9\" class=\"data row16 col9\" >0.00</td>\n",
              "      <td id=\"T_80317_row16_col10\" class=\"data row16 col10\" >0.00</td>\n",
              "      <td id=\"T_80317_row16_col11\" class=\"data row16 col11\" >0.00</td>\n",
              "      <td id=\"T_80317_row16_col12\" class=\"data row16 col12\" >0.00</td>\n",
              "      <td id=\"T_80317_row16_col13\" class=\"data row16 col13\" >0.00</td>\n",
              "      <td id=\"T_80317_row16_col14\" class=\"data row16 col14\" >0.00</td>\n",
              "      <td id=\"T_80317_row16_col15\" class=\"data row16 col15\" >0.06</td>\n",
              "      <td id=\"T_80317_row16_col16\" class=\"data row16 col16\" >0.36</td>\n",
              "      <td id=\"T_80317_row16_col17\" class=\"data row16 col17\" >0.99</td>\n",
              "      <td id=\"T_80317_row16_col18\" class=\"data row16 col18\" >0.99</td>\n",
              "      <td id=\"T_80317_row16_col19\" class=\"data row16 col19\" >0.73</td>\n",
              "      <td id=\"T_80317_row16_col20\" class=\"data row16 col20\" >0.00</td>\n",
              "      <td id=\"T_80317_row16_col21\" class=\"data row16 col21\" >0.00</td>\n",
              "      <td id=\"T_80317_row16_col22\" class=\"data row16 col22\" >0.00</td>\n",
              "      <td id=\"T_80317_row16_col23\" class=\"data row16 col23\" >0.00</td>\n",
              "      <td id=\"T_80317_row16_col24\" class=\"data row16 col24\" >0.00</td>\n",
              "      <td id=\"T_80317_row16_col25\" class=\"data row16 col25\" >0.00</td>\n",
              "      <td id=\"T_80317_row16_col26\" class=\"data row16 col26\" >0.00</td>\n",
              "      <td id=\"T_80317_row16_col27\" class=\"data row16 col27\" >0.00</td>\n",
              "    </tr>\n",
              "    <tr>\n",
              "      <th id=\"T_80317_level0_row17\" class=\"row_heading level0 row17\" >17</th>\n",
              "      <td id=\"T_80317_row17_col0\" class=\"data row17 col0\" >0.00</td>\n",
              "      <td id=\"T_80317_row17_col1\" class=\"data row17 col1\" >0.00</td>\n",
              "      <td id=\"T_80317_row17_col2\" class=\"data row17 col2\" >0.00</td>\n",
              "      <td id=\"T_80317_row17_col3\" class=\"data row17 col3\" >0.00</td>\n",
              "      <td id=\"T_80317_row17_col4\" class=\"data row17 col4\" >0.00</td>\n",
              "      <td id=\"T_80317_row17_col5\" class=\"data row17 col5\" >0.00</td>\n",
              "      <td id=\"T_80317_row17_col6\" class=\"data row17 col6\" >0.00</td>\n",
              "      <td id=\"T_80317_row17_col7\" class=\"data row17 col7\" >0.00</td>\n",
              "      <td id=\"T_80317_row17_col8\" class=\"data row17 col8\" >0.00</td>\n",
              "      <td id=\"T_80317_row17_col9\" class=\"data row17 col9\" >0.00</td>\n",
              "      <td id=\"T_80317_row17_col10\" class=\"data row17 col10\" >0.00</td>\n",
              "      <td id=\"T_80317_row17_col11\" class=\"data row17 col11\" >0.00</td>\n",
              "      <td id=\"T_80317_row17_col12\" class=\"data row17 col12\" >0.00</td>\n",
              "      <td id=\"T_80317_row17_col13\" class=\"data row17 col13\" >0.00</td>\n",
              "      <td id=\"T_80317_row17_col14\" class=\"data row17 col14\" >0.00</td>\n",
              "      <td id=\"T_80317_row17_col15\" class=\"data row17 col15\" >0.00</td>\n",
              "      <td id=\"T_80317_row17_col16\" class=\"data row17 col16\" >0.00</td>\n",
              "      <td id=\"T_80317_row17_col17\" class=\"data row17 col17\" >0.98</td>\n",
              "      <td id=\"T_80317_row17_col18\" class=\"data row17 col18\" >0.99</td>\n",
              "      <td id=\"T_80317_row17_col19\" class=\"data row17 col19\" >0.98</td>\n",
              "      <td id=\"T_80317_row17_col20\" class=\"data row17 col20\" >0.25</td>\n",
              "      <td id=\"T_80317_row17_col21\" class=\"data row17 col21\" >0.00</td>\n",
              "      <td id=\"T_80317_row17_col22\" class=\"data row17 col22\" >0.00</td>\n",
              "      <td id=\"T_80317_row17_col23\" class=\"data row17 col23\" >0.00</td>\n",
              "      <td id=\"T_80317_row17_col24\" class=\"data row17 col24\" >0.00</td>\n",
              "      <td id=\"T_80317_row17_col25\" class=\"data row17 col25\" >0.00</td>\n",
              "      <td id=\"T_80317_row17_col26\" class=\"data row17 col26\" >0.00</td>\n",
              "      <td id=\"T_80317_row17_col27\" class=\"data row17 col27\" >0.00</td>\n",
              "    </tr>\n",
              "    <tr>\n",
              "      <th id=\"T_80317_level0_row18\" class=\"row_heading level0 row18\" >18</th>\n",
              "      <td id=\"T_80317_row18_col0\" class=\"data row18 col0\" >0.00</td>\n",
              "      <td id=\"T_80317_row18_col1\" class=\"data row18 col1\" >0.00</td>\n",
              "      <td id=\"T_80317_row18_col2\" class=\"data row18 col2\" >0.00</td>\n",
              "      <td id=\"T_80317_row18_col3\" class=\"data row18 col3\" >0.00</td>\n",
              "      <td id=\"T_80317_row18_col4\" class=\"data row18 col4\" >0.00</td>\n",
              "      <td id=\"T_80317_row18_col5\" class=\"data row18 col5\" >0.00</td>\n",
              "      <td id=\"T_80317_row18_col6\" class=\"data row18 col6\" >0.00</td>\n",
              "      <td id=\"T_80317_row18_col7\" class=\"data row18 col7\" >0.00</td>\n",
              "      <td id=\"T_80317_row18_col8\" class=\"data row18 col8\" >0.00</td>\n",
              "      <td id=\"T_80317_row18_col9\" class=\"data row18 col9\" >0.00</td>\n",
              "      <td id=\"T_80317_row18_col10\" class=\"data row18 col10\" >0.00</td>\n",
              "      <td id=\"T_80317_row18_col11\" class=\"data row18 col11\" >0.00</td>\n",
              "      <td id=\"T_80317_row18_col12\" class=\"data row18 col12\" >0.00</td>\n",
              "      <td id=\"T_80317_row18_col13\" class=\"data row18 col13\" >0.00</td>\n",
              "      <td id=\"T_80317_row18_col14\" class=\"data row18 col14\" >0.18</td>\n",
              "      <td id=\"T_80317_row18_col15\" class=\"data row18 col15\" >0.51</td>\n",
              "      <td id=\"T_80317_row18_col16\" class=\"data row18 col16\" >0.72</td>\n",
              "      <td id=\"T_80317_row18_col17\" class=\"data row18 col17\" >0.99</td>\n",
              "      <td id=\"T_80317_row18_col18\" class=\"data row18 col18\" >0.99</td>\n",
              "      <td id=\"T_80317_row18_col19\" class=\"data row18 col19\" >0.81</td>\n",
              "      <td id=\"T_80317_row18_col20\" class=\"data row18 col20\" >0.01</td>\n",
              "      <td id=\"T_80317_row18_col21\" class=\"data row18 col21\" >0.00</td>\n",
              "      <td id=\"T_80317_row18_col22\" class=\"data row18 col22\" >0.00</td>\n",
              "      <td id=\"T_80317_row18_col23\" class=\"data row18 col23\" >0.00</td>\n",
              "      <td id=\"T_80317_row18_col24\" class=\"data row18 col24\" >0.00</td>\n",
              "      <td id=\"T_80317_row18_col25\" class=\"data row18 col25\" >0.00</td>\n",
              "      <td id=\"T_80317_row18_col26\" class=\"data row18 col26\" >0.00</td>\n",
              "      <td id=\"T_80317_row18_col27\" class=\"data row18 col27\" >0.00</td>\n",
              "    </tr>\n",
              "    <tr>\n",
              "      <th id=\"T_80317_level0_row19\" class=\"row_heading level0 row19\" >19</th>\n",
              "      <td id=\"T_80317_row19_col0\" class=\"data row19 col0\" >0.00</td>\n",
              "      <td id=\"T_80317_row19_col1\" class=\"data row19 col1\" >0.00</td>\n",
              "      <td id=\"T_80317_row19_col2\" class=\"data row19 col2\" >0.00</td>\n",
              "      <td id=\"T_80317_row19_col3\" class=\"data row19 col3\" >0.00</td>\n",
              "      <td id=\"T_80317_row19_col4\" class=\"data row19 col4\" >0.00</td>\n",
              "      <td id=\"T_80317_row19_col5\" class=\"data row19 col5\" >0.00</td>\n",
              "      <td id=\"T_80317_row19_col6\" class=\"data row19 col6\" >0.00</td>\n",
              "      <td id=\"T_80317_row19_col7\" class=\"data row19 col7\" >0.00</td>\n",
              "      <td id=\"T_80317_row19_col8\" class=\"data row19 col8\" >0.00</td>\n",
              "      <td id=\"T_80317_row19_col9\" class=\"data row19 col9\" >0.00</td>\n",
              "      <td id=\"T_80317_row19_col10\" class=\"data row19 col10\" >0.00</td>\n",
              "      <td id=\"T_80317_row19_col11\" class=\"data row19 col11\" >0.00</td>\n",
              "      <td id=\"T_80317_row19_col12\" class=\"data row19 col12\" >0.15</td>\n",
              "      <td id=\"T_80317_row19_col13\" class=\"data row19 col13\" >0.58</td>\n",
              "      <td id=\"T_80317_row19_col14\" class=\"data row19 col14\" >0.90</td>\n",
              "      <td id=\"T_80317_row19_col15\" class=\"data row19 col15\" >0.99</td>\n",
              "      <td id=\"T_80317_row19_col16\" class=\"data row19 col16\" >0.99</td>\n",
              "      <td id=\"T_80317_row19_col17\" class=\"data row19 col17\" >0.99</td>\n",
              "      <td id=\"T_80317_row19_col18\" class=\"data row19 col18\" >0.98</td>\n",
              "      <td id=\"T_80317_row19_col19\" class=\"data row19 col19\" >0.71</td>\n",
              "      <td id=\"T_80317_row19_col20\" class=\"data row19 col20\" >0.00</td>\n",
              "      <td id=\"T_80317_row19_col21\" class=\"data row19 col21\" >0.00</td>\n",
              "      <td id=\"T_80317_row19_col22\" class=\"data row19 col22\" >0.00</td>\n",
              "      <td id=\"T_80317_row19_col23\" class=\"data row19 col23\" >0.00</td>\n",
              "      <td id=\"T_80317_row19_col24\" class=\"data row19 col24\" >0.00</td>\n",
              "      <td id=\"T_80317_row19_col25\" class=\"data row19 col25\" >0.00</td>\n",
              "      <td id=\"T_80317_row19_col26\" class=\"data row19 col26\" >0.00</td>\n",
              "      <td id=\"T_80317_row19_col27\" class=\"data row19 col27\" >0.00</td>\n",
              "    </tr>\n",
              "    <tr>\n",
              "      <th id=\"T_80317_level0_row20\" class=\"row_heading level0 row20\" >20</th>\n",
              "      <td id=\"T_80317_row20_col0\" class=\"data row20 col0\" >0.00</td>\n",
              "      <td id=\"T_80317_row20_col1\" class=\"data row20 col1\" >0.00</td>\n",
              "      <td id=\"T_80317_row20_col2\" class=\"data row20 col2\" >0.00</td>\n",
              "      <td id=\"T_80317_row20_col3\" class=\"data row20 col3\" >0.00</td>\n",
              "      <td id=\"T_80317_row20_col4\" class=\"data row20 col4\" >0.00</td>\n",
              "      <td id=\"T_80317_row20_col5\" class=\"data row20 col5\" >0.00</td>\n",
              "      <td id=\"T_80317_row20_col6\" class=\"data row20 col6\" >0.00</td>\n",
              "      <td id=\"T_80317_row20_col7\" class=\"data row20 col7\" >0.00</td>\n",
              "      <td id=\"T_80317_row20_col8\" class=\"data row20 col8\" >0.00</td>\n",
              "      <td id=\"T_80317_row20_col9\" class=\"data row20 col9\" >0.00</td>\n",
              "      <td id=\"T_80317_row20_col10\" class=\"data row20 col10\" >0.09</td>\n",
              "      <td id=\"T_80317_row20_col11\" class=\"data row20 col11\" >0.45</td>\n",
              "      <td id=\"T_80317_row20_col12\" class=\"data row20 col12\" >0.87</td>\n",
              "      <td id=\"T_80317_row20_col13\" class=\"data row20 col13\" >0.99</td>\n",
              "      <td id=\"T_80317_row20_col14\" class=\"data row20 col14\" >0.99</td>\n",
              "      <td id=\"T_80317_row20_col15\" class=\"data row20 col15\" >0.99</td>\n",
              "      <td id=\"T_80317_row20_col16\" class=\"data row20 col16\" >0.99</td>\n",
              "      <td id=\"T_80317_row20_col17\" class=\"data row20 col17\" >0.79</td>\n",
              "      <td id=\"T_80317_row20_col18\" class=\"data row20 col18\" >0.31</td>\n",
              "      <td id=\"T_80317_row20_col19\" class=\"data row20 col19\" >0.00</td>\n",
              "      <td id=\"T_80317_row20_col20\" class=\"data row20 col20\" >0.00</td>\n",
              "      <td id=\"T_80317_row20_col21\" class=\"data row20 col21\" >0.00</td>\n",
              "      <td id=\"T_80317_row20_col22\" class=\"data row20 col22\" >0.00</td>\n",
              "      <td id=\"T_80317_row20_col23\" class=\"data row20 col23\" >0.00</td>\n",
              "      <td id=\"T_80317_row20_col24\" class=\"data row20 col24\" >0.00</td>\n",
              "      <td id=\"T_80317_row20_col25\" class=\"data row20 col25\" >0.00</td>\n",
              "      <td id=\"T_80317_row20_col26\" class=\"data row20 col26\" >0.00</td>\n",
              "      <td id=\"T_80317_row20_col27\" class=\"data row20 col27\" >0.00</td>\n",
              "    </tr>\n",
              "    <tr>\n",
              "      <th id=\"T_80317_level0_row21\" class=\"row_heading level0 row21\" >21</th>\n",
              "      <td id=\"T_80317_row21_col0\" class=\"data row21 col0\" >0.00</td>\n",
              "      <td id=\"T_80317_row21_col1\" class=\"data row21 col1\" >0.00</td>\n",
              "      <td id=\"T_80317_row21_col2\" class=\"data row21 col2\" >0.00</td>\n",
              "      <td id=\"T_80317_row21_col3\" class=\"data row21 col3\" >0.00</td>\n",
              "      <td id=\"T_80317_row21_col4\" class=\"data row21 col4\" >0.00</td>\n",
              "      <td id=\"T_80317_row21_col5\" class=\"data row21 col5\" >0.00</td>\n",
              "      <td id=\"T_80317_row21_col6\" class=\"data row21 col6\" >0.00</td>\n",
              "      <td id=\"T_80317_row21_col7\" class=\"data row21 col7\" >0.00</td>\n",
              "      <td id=\"T_80317_row21_col8\" class=\"data row21 col8\" >0.09</td>\n",
              "      <td id=\"T_80317_row21_col9\" class=\"data row21 col9\" >0.26</td>\n",
              "      <td id=\"T_80317_row21_col10\" class=\"data row21 col10\" >0.84</td>\n",
              "      <td id=\"T_80317_row21_col11\" class=\"data row21 col11\" >0.99</td>\n",
              "      <td id=\"T_80317_row21_col12\" class=\"data row21 col12\" >0.99</td>\n",
              "      <td id=\"T_80317_row21_col13\" class=\"data row21 col13\" >0.99</td>\n",
              "      <td id=\"T_80317_row21_col14\" class=\"data row21 col14\" >0.99</td>\n",
              "      <td id=\"T_80317_row21_col15\" class=\"data row21 col15\" >0.78</td>\n",
              "      <td id=\"T_80317_row21_col16\" class=\"data row21 col16\" >0.32</td>\n",
              "      <td id=\"T_80317_row21_col17\" class=\"data row21 col17\" >0.01</td>\n",
              "      <td id=\"T_80317_row21_col18\" class=\"data row21 col18\" >0.00</td>\n",
              "      <td id=\"T_80317_row21_col19\" class=\"data row21 col19\" >0.00</td>\n",
              "      <td id=\"T_80317_row21_col20\" class=\"data row21 col20\" >0.00</td>\n",
              "      <td id=\"T_80317_row21_col21\" class=\"data row21 col21\" >0.00</td>\n",
              "      <td id=\"T_80317_row21_col22\" class=\"data row21 col22\" >0.00</td>\n",
              "      <td id=\"T_80317_row21_col23\" class=\"data row21 col23\" >0.00</td>\n",
              "      <td id=\"T_80317_row21_col24\" class=\"data row21 col24\" >0.00</td>\n",
              "      <td id=\"T_80317_row21_col25\" class=\"data row21 col25\" >0.00</td>\n",
              "      <td id=\"T_80317_row21_col26\" class=\"data row21 col26\" >0.00</td>\n",
              "      <td id=\"T_80317_row21_col27\" class=\"data row21 col27\" >0.00</td>\n",
              "    </tr>\n",
              "    <tr>\n",
              "      <th id=\"T_80317_level0_row22\" class=\"row_heading level0 row22\" >22</th>\n",
              "      <td id=\"T_80317_row22_col0\" class=\"data row22 col0\" >0.00</td>\n",
              "      <td id=\"T_80317_row22_col1\" class=\"data row22 col1\" >0.00</td>\n",
              "      <td id=\"T_80317_row22_col2\" class=\"data row22 col2\" >0.00</td>\n",
              "      <td id=\"T_80317_row22_col3\" class=\"data row22 col3\" >0.00</td>\n",
              "      <td id=\"T_80317_row22_col4\" class=\"data row22 col4\" >0.00</td>\n",
              "      <td id=\"T_80317_row22_col5\" class=\"data row22 col5\" >0.00</td>\n",
              "      <td id=\"T_80317_row22_col6\" class=\"data row22 col6\" >0.07</td>\n",
              "      <td id=\"T_80317_row22_col7\" class=\"data row22 col7\" >0.67</td>\n",
              "      <td id=\"T_80317_row22_col8\" class=\"data row22 col8\" >0.86</td>\n",
              "      <td id=\"T_80317_row22_col9\" class=\"data row22 col9\" >0.99</td>\n",
              "      <td id=\"T_80317_row22_col10\" class=\"data row22 col10\" >0.99</td>\n",
              "      <td id=\"T_80317_row22_col11\" class=\"data row22 col11\" >0.99</td>\n",
              "      <td id=\"T_80317_row22_col12\" class=\"data row22 col12\" >0.99</td>\n",
              "      <td id=\"T_80317_row22_col13\" class=\"data row22 col13\" >0.76</td>\n",
              "      <td id=\"T_80317_row22_col14\" class=\"data row22 col14\" >0.31</td>\n",
              "      <td id=\"T_80317_row22_col15\" class=\"data row22 col15\" >0.04</td>\n",
              "      <td id=\"T_80317_row22_col16\" class=\"data row22 col16\" >0.00</td>\n",
              "      <td id=\"T_80317_row22_col17\" class=\"data row22 col17\" >0.00</td>\n",
              "      <td id=\"T_80317_row22_col18\" class=\"data row22 col18\" >0.00</td>\n",
              "      <td id=\"T_80317_row22_col19\" class=\"data row22 col19\" >0.00</td>\n",
              "      <td id=\"T_80317_row22_col20\" class=\"data row22 col20\" >0.00</td>\n",
              "      <td id=\"T_80317_row22_col21\" class=\"data row22 col21\" >0.00</td>\n",
              "      <td id=\"T_80317_row22_col22\" class=\"data row22 col22\" >0.00</td>\n",
              "      <td id=\"T_80317_row22_col23\" class=\"data row22 col23\" >0.00</td>\n",
              "      <td id=\"T_80317_row22_col24\" class=\"data row22 col24\" >0.00</td>\n",
              "      <td id=\"T_80317_row22_col25\" class=\"data row22 col25\" >0.00</td>\n",
              "      <td id=\"T_80317_row22_col26\" class=\"data row22 col26\" >0.00</td>\n",
              "      <td id=\"T_80317_row22_col27\" class=\"data row22 col27\" >0.00</td>\n",
              "    </tr>\n",
              "    <tr>\n",
              "      <th id=\"T_80317_level0_row23\" class=\"row_heading level0 row23\" >23</th>\n",
              "      <td id=\"T_80317_row23_col0\" class=\"data row23 col0\" >0.00</td>\n",
              "      <td id=\"T_80317_row23_col1\" class=\"data row23 col1\" >0.00</td>\n",
              "      <td id=\"T_80317_row23_col2\" class=\"data row23 col2\" >0.00</td>\n",
              "      <td id=\"T_80317_row23_col3\" class=\"data row23 col3\" >0.00</td>\n",
              "      <td id=\"T_80317_row23_col4\" class=\"data row23 col4\" >0.22</td>\n",
              "      <td id=\"T_80317_row23_col5\" class=\"data row23 col5\" >0.67</td>\n",
              "      <td id=\"T_80317_row23_col6\" class=\"data row23 col6\" >0.89</td>\n",
              "      <td id=\"T_80317_row23_col7\" class=\"data row23 col7\" >0.99</td>\n",
              "      <td id=\"T_80317_row23_col8\" class=\"data row23 col8\" >0.99</td>\n",
              "      <td id=\"T_80317_row23_col9\" class=\"data row23 col9\" >0.99</td>\n",
              "      <td id=\"T_80317_row23_col10\" class=\"data row23 col10\" >0.99</td>\n",
              "      <td id=\"T_80317_row23_col11\" class=\"data row23 col11\" >0.96</td>\n",
              "      <td id=\"T_80317_row23_col12\" class=\"data row23 col12\" >0.52</td>\n",
              "      <td id=\"T_80317_row23_col13\" class=\"data row23 col13\" >0.04</td>\n",
              "      <td id=\"T_80317_row23_col14\" class=\"data row23 col14\" >0.00</td>\n",
              "      <td id=\"T_80317_row23_col15\" class=\"data row23 col15\" >0.00</td>\n",
              "      <td id=\"T_80317_row23_col16\" class=\"data row23 col16\" >0.00</td>\n",
              "      <td id=\"T_80317_row23_col17\" class=\"data row23 col17\" >0.00</td>\n",
              "      <td id=\"T_80317_row23_col18\" class=\"data row23 col18\" >0.00</td>\n",
              "      <td id=\"T_80317_row23_col19\" class=\"data row23 col19\" >0.00</td>\n",
              "      <td id=\"T_80317_row23_col20\" class=\"data row23 col20\" >0.00</td>\n",
              "      <td id=\"T_80317_row23_col21\" class=\"data row23 col21\" >0.00</td>\n",
              "      <td id=\"T_80317_row23_col22\" class=\"data row23 col22\" >0.00</td>\n",
              "      <td id=\"T_80317_row23_col23\" class=\"data row23 col23\" >0.00</td>\n",
              "      <td id=\"T_80317_row23_col24\" class=\"data row23 col24\" >0.00</td>\n",
              "      <td id=\"T_80317_row23_col25\" class=\"data row23 col25\" >0.00</td>\n",
              "      <td id=\"T_80317_row23_col26\" class=\"data row23 col26\" >0.00</td>\n",
              "      <td id=\"T_80317_row23_col27\" class=\"data row23 col27\" >0.00</td>\n",
              "    </tr>\n",
              "    <tr>\n",
              "      <th id=\"T_80317_level0_row24\" class=\"row_heading level0 row24\" >24</th>\n",
              "      <td id=\"T_80317_row24_col0\" class=\"data row24 col0\" >0.00</td>\n",
              "      <td id=\"T_80317_row24_col1\" class=\"data row24 col1\" >0.00</td>\n",
              "      <td id=\"T_80317_row24_col2\" class=\"data row24 col2\" >0.00</td>\n",
              "      <td id=\"T_80317_row24_col3\" class=\"data row24 col3\" >0.00</td>\n",
              "      <td id=\"T_80317_row24_col4\" class=\"data row24 col4\" >0.53</td>\n",
              "      <td id=\"T_80317_row24_col5\" class=\"data row24 col5\" >0.99</td>\n",
              "      <td id=\"T_80317_row24_col6\" class=\"data row24 col6\" >0.99</td>\n",
              "      <td id=\"T_80317_row24_col7\" class=\"data row24 col7\" >0.99</td>\n",
              "      <td id=\"T_80317_row24_col8\" class=\"data row24 col8\" >0.83</td>\n",
              "      <td id=\"T_80317_row24_col9\" class=\"data row24 col9\" >0.53</td>\n",
              "      <td id=\"T_80317_row24_col10\" class=\"data row24 col10\" >0.52</td>\n",
              "      <td id=\"T_80317_row24_col11\" class=\"data row24 col11\" >0.06</td>\n",
              "      <td id=\"T_80317_row24_col12\" class=\"data row24 col12\" >0.00</td>\n",
              "      <td id=\"T_80317_row24_col13\" class=\"data row24 col13\" >0.00</td>\n",
              "      <td id=\"T_80317_row24_col14\" class=\"data row24 col14\" >0.00</td>\n",
              "      <td id=\"T_80317_row24_col15\" class=\"data row24 col15\" >0.00</td>\n",
              "      <td id=\"T_80317_row24_col16\" class=\"data row24 col16\" >0.00</td>\n",
              "      <td id=\"T_80317_row24_col17\" class=\"data row24 col17\" >0.00</td>\n",
              "      <td id=\"T_80317_row24_col18\" class=\"data row24 col18\" >0.00</td>\n",
              "      <td id=\"T_80317_row24_col19\" class=\"data row24 col19\" >0.00</td>\n",
              "      <td id=\"T_80317_row24_col20\" class=\"data row24 col20\" >0.00</td>\n",
              "      <td id=\"T_80317_row24_col21\" class=\"data row24 col21\" >0.00</td>\n",
              "      <td id=\"T_80317_row24_col22\" class=\"data row24 col22\" >0.00</td>\n",
              "      <td id=\"T_80317_row24_col23\" class=\"data row24 col23\" >0.00</td>\n",
              "      <td id=\"T_80317_row24_col24\" class=\"data row24 col24\" >0.00</td>\n",
              "      <td id=\"T_80317_row24_col25\" class=\"data row24 col25\" >0.00</td>\n",
              "      <td id=\"T_80317_row24_col26\" class=\"data row24 col26\" >0.00</td>\n",
              "      <td id=\"T_80317_row24_col27\" class=\"data row24 col27\" >0.00</td>\n",
              "    </tr>\n",
              "    <tr>\n",
              "      <th id=\"T_80317_level0_row25\" class=\"row_heading level0 row25\" >25</th>\n",
              "      <td id=\"T_80317_row25_col0\" class=\"data row25 col0\" >0.00</td>\n",
              "      <td id=\"T_80317_row25_col1\" class=\"data row25 col1\" >0.00</td>\n",
              "      <td id=\"T_80317_row25_col2\" class=\"data row25 col2\" >0.00</td>\n",
              "      <td id=\"T_80317_row25_col3\" class=\"data row25 col3\" >0.00</td>\n",
              "      <td id=\"T_80317_row25_col4\" class=\"data row25 col4\" >0.00</td>\n",
              "      <td id=\"T_80317_row25_col5\" class=\"data row25 col5\" >0.00</td>\n",
              "      <td id=\"T_80317_row25_col6\" class=\"data row25 col6\" >0.00</td>\n",
              "      <td id=\"T_80317_row25_col7\" class=\"data row25 col7\" >0.00</td>\n",
              "      <td id=\"T_80317_row25_col8\" class=\"data row25 col8\" >0.00</td>\n",
              "      <td id=\"T_80317_row25_col9\" class=\"data row25 col9\" >0.00</td>\n",
              "      <td id=\"T_80317_row25_col10\" class=\"data row25 col10\" >0.00</td>\n",
              "      <td id=\"T_80317_row25_col11\" class=\"data row25 col11\" >0.00</td>\n",
              "      <td id=\"T_80317_row25_col12\" class=\"data row25 col12\" >0.00</td>\n",
              "      <td id=\"T_80317_row25_col13\" class=\"data row25 col13\" >0.00</td>\n",
              "      <td id=\"T_80317_row25_col14\" class=\"data row25 col14\" >0.00</td>\n",
              "      <td id=\"T_80317_row25_col15\" class=\"data row25 col15\" >0.00</td>\n",
              "      <td id=\"T_80317_row25_col16\" class=\"data row25 col16\" >0.00</td>\n",
              "      <td id=\"T_80317_row25_col17\" class=\"data row25 col17\" >0.00</td>\n",
              "      <td id=\"T_80317_row25_col18\" class=\"data row25 col18\" >0.00</td>\n",
              "      <td id=\"T_80317_row25_col19\" class=\"data row25 col19\" >0.00</td>\n",
              "      <td id=\"T_80317_row25_col20\" class=\"data row25 col20\" >0.00</td>\n",
              "      <td id=\"T_80317_row25_col21\" class=\"data row25 col21\" >0.00</td>\n",
              "      <td id=\"T_80317_row25_col22\" class=\"data row25 col22\" >0.00</td>\n",
              "      <td id=\"T_80317_row25_col23\" class=\"data row25 col23\" >0.00</td>\n",
              "      <td id=\"T_80317_row25_col24\" class=\"data row25 col24\" >0.00</td>\n",
              "      <td id=\"T_80317_row25_col25\" class=\"data row25 col25\" >0.00</td>\n",
              "      <td id=\"T_80317_row25_col26\" class=\"data row25 col26\" >0.00</td>\n",
              "      <td id=\"T_80317_row25_col27\" class=\"data row25 col27\" >0.00</td>\n",
              "    </tr>\n",
              "    <tr>\n",
              "      <th id=\"T_80317_level0_row26\" class=\"row_heading level0 row26\" >26</th>\n",
              "      <td id=\"T_80317_row26_col0\" class=\"data row26 col0\" >0.00</td>\n",
              "      <td id=\"T_80317_row26_col1\" class=\"data row26 col1\" >0.00</td>\n",
              "      <td id=\"T_80317_row26_col2\" class=\"data row26 col2\" >0.00</td>\n",
              "      <td id=\"T_80317_row26_col3\" class=\"data row26 col3\" >0.00</td>\n",
              "      <td id=\"T_80317_row26_col4\" class=\"data row26 col4\" >0.00</td>\n",
              "      <td id=\"T_80317_row26_col5\" class=\"data row26 col5\" >0.00</td>\n",
              "      <td id=\"T_80317_row26_col6\" class=\"data row26 col6\" >0.00</td>\n",
              "      <td id=\"T_80317_row26_col7\" class=\"data row26 col7\" >0.00</td>\n",
              "      <td id=\"T_80317_row26_col8\" class=\"data row26 col8\" >0.00</td>\n",
              "      <td id=\"T_80317_row26_col9\" class=\"data row26 col9\" >0.00</td>\n",
              "      <td id=\"T_80317_row26_col10\" class=\"data row26 col10\" >0.00</td>\n",
              "      <td id=\"T_80317_row26_col11\" class=\"data row26 col11\" >0.00</td>\n",
              "      <td id=\"T_80317_row26_col12\" class=\"data row26 col12\" >0.00</td>\n",
              "      <td id=\"T_80317_row26_col13\" class=\"data row26 col13\" >0.00</td>\n",
              "      <td id=\"T_80317_row26_col14\" class=\"data row26 col14\" >0.00</td>\n",
              "      <td id=\"T_80317_row26_col15\" class=\"data row26 col15\" >0.00</td>\n",
              "      <td id=\"T_80317_row26_col16\" class=\"data row26 col16\" >0.00</td>\n",
              "      <td id=\"T_80317_row26_col17\" class=\"data row26 col17\" >0.00</td>\n",
              "      <td id=\"T_80317_row26_col18\" class=\"data row26 col18\" >0.00</td>\n",
              "      <td id=\"T_80317_row26_col19\" class=\"data row26 col19\" >0.00</td>\n",
              "      <td id=\"T_80317_row26_col20\" class=\"data row26 col20\" >0.00</td>\n",
              "      <td id=\"T_80317_row26_col21\" class=\"data row26 col21\" >0.00</td>\n",
              "      <td id=\"T_80317_row26_col22\" class=\"data row26 col22\" >0.00</td>\n",
              "      <td id=\"T_80317_row26_col23\" class=\"data row26 col23\" >0.00</td>\n",
              "      <td id=\"T_80317_row26_col24\" class=\"data row26 col24\" >0.00</td>\n",
              "      <td id=\"T_80317_row26_col25\" class=\"data row26 col25\" >0.00</td>\n",
              "      <td id=\"T_80317_row26_col26\" class=\"data row26 col26\" >0.00</td>\n",
              "      <td id=\"T_80317_row26_col27\" class=\"data row26 col27\" >0.00</td>\n",
              "    </tr>\n",
              "    <tr>\n",
              "      <th id=\"T_80317_level0_row27\" class=\"row_heading level0 row27\" >27</th>\n",
              "      <td id=\"T_80317_row27_col0\" class=\"data row27 col0\" >0.00</td>\n",
              "      <td id=\"T_80317_row27_col1\" class=\"data row27 col1\" >0.00</td>\n",
              "      <td id=\"T_80317_row27_col2\" class=\"data row27 col2\" >0.00</td>\n",
              "      <td id=\"T_80317_row27_col3\" class=\"data row27 col3\" >0.00</td>\n",
              "      <td id=\"T_80317_row27_col4\" class=\"data row27 col4\" >0.00</td>\n",
              "      <td id=\"T_80317_row27_col5\" class=\"data row27 col5\" >0.00</td>\n",
              "      <td id=\"T_80317_row27_col6\" class=\"data row27 col6\" >0.00</td>\n",
              "      <td id=\"T_80317_row27_col7\" class=\"data row27 col7\" >0.00</td>\n",
              "      <td id=\"T_80317_row27_col8\" class=\"data row27 col8\" >0.00</td>\n",
              "      <td id=\"T_80317_row27_col9\" class=\"data row27 col9\" >0.00</td>\n",
              "      <td id=\"T_80317_row27_col10\" class=\"data row27 col10\" >0.00</td>\n",
              "      <td id=\"T_80317_row27_col11\" class=\"data row27 col11\" >0.00</td>\n",
              "      <td id=\"T_80317_row27_col12\" class=\"data row27 col12\" >0.00</td>\n",
              "      <td id=\"T_80317_row27_col13\" class=\"data row27 col13\" >0.00</td>\n",
              "      <td id=\"T_80317_row27_col14\" class=\"data row27 col14\" >0.00</td>\n",
              "      <td id=\"T_80317_row27_col15\" class=\"data row27 col15\" >0.00</td>\n",
              "      <td id=\"T_80317_row27_col16\" class=\"data row27 col16\" >0.00</td>\n",
              "      <td id=\"T_80317_row27_col17\" class=\"data row27 col17\" >0.00</td>\n",
              "      <td id=\"T_80317_row27_col18\" class=\"data row27 col18\" >0.00</td>\n",
              "      <td id=\"T_80317_row27_col19\" class=\"data row27 col19\" >0.00</td>\n",
              "      <td id=\"T_80317_row27_col20\" class=\"data row27 col20\" >0.00</td>\n",
              "      <td id=\"T_80317_row27_col21\" class=\"data row27 col21\" >0.00</td>\n",
              "      <td id=\"T_80317_row27_col22\" class=\"data row27 col22\" >0.00</td>\n",
              "      <td id=\"T_80317_row27_col23\" class=\"data row27 col23\" >0.00</td>\n",
              "      <td id=\"T_80317_row27_col24\" class=\"data row27 col24\" >0.00</td>\n",
              "      <td id=\"T_80317_row27_col25\" class=\"data row27 col25\" >0.00</td>\n",
              "      <td id=\"T_80317_row27_col26\" class=\"data row27 col26\" >0.00</td>\n",
              "      <td id=\"T_80317_row27_col27\" class=\"data row27 col27\" >0.00</td>\n",
              "    </tr>\n",
              "  </tbody>\n",
              "</table>\n"
            ]
          },
          "metadata": {},
          "execution_count": 68
        }
      ]
    },
    {
      "cell_type": "markdown",
      "source": [
        "Lets see how many examples of each digit the training set contains."
      ],
      "metadata": {
        "id": "X9Yy0dMn5Apd"
      }
    },
    {
      "cell_type": "code",
      "source": [
        "digit_indices = {y: [] for y in range(10)}\n",
        "[digit_indices[y].append(i) for i, (x, y) in enumerate(train_dataset)]\n",
        "\n",
        "for i in range(10):\n",
        "  print(i, 'has', len(digit_indices[i]), 'samples')"
      ],
      "metadata": {
        "id": "tdG500HYxnLb",
        "colab": {
          "base_uri": "https://localhost:8080/"
        },
        "outputId": "f61d68d1-a864-4092-89b4-35a09c7adf39"
      },
      "execution_count": 3,
      "outputs": [
        {
          "output_type": "stream",
          "name": "stdout",
          "text": [
            "0 has 5923 samples\n",
            "1 has 6742 samples\n",
            "2 has 5958 samples\n",
            "3 has 6131 samples\n",
            "4 has 5842 samples\n",
            "5 has 5421 samples\n",
            "6 has 5918 samples\n",
            "7 has 6265 samples\n",
            "8 has 5851 samples\n",
            "9 has 5949 samples\n"
          ]
        }
      ]
    },
    {
      "cell_type": "markdown",
      "source": [
        "Lets see an example of each digit."
      ],
      "metadata": {
        "id": "nFOsDZOK9PM_"
      }
    },
    {
      "cell_type": "code",
      "source": [
        "import matplotlib.pyplot as plt\n",
        "\n",
        "for i in range(10):\n",
        "  plt.subplot(2, 5, i + 1)\n",
        "  plt.imshow(torch.squeeze(train_dataset[digit_indices[i][0]][0]), cmap=plt.get_cmap('gray'))\n",
        "plt.subplots_adjust(bottom=0.4)\n",
        "plt.show()"
      ],
      "metadata": {
        "colab": {
          "base_uri": "https://localhost:8080/",
          "height": 275
        },
        "id": "hZ24JgIU2Zws",
        "outputId": "47ff648c-f903-4b8b-ddfe-533494aff491"
      },
      "execution_count": 4,
      "outputs": [
        {
          "output_type": "display_data",
          "data": {
            "text/plain": [
              "<Figure size 640x480 with 10 Axes>"
            ],
            "image/png": "[encoded data removed]"
          },
          "metadata": {}
        }
      ]
    },
    {
      "cell_type": "markdown",
      "source": [
        "### Create a validation dataset"
      ],
      "metadata": {
        "id": "4g71U2-puXNY"
      }
    },
    {
      "cell_type": "code",
      "source": [
        "import numpy as np\n",
        "\n",
        "validation_frac = 0.2\n",
        "num_samples = len(train_dataset)\n",
        "split_idx = int(np.floor((1 - validation_frac) * num_samples))\n",
        "train_idx = np.arange(split_idx)\n",
        "valid_idx = np.arange(split_idx, num_samples)"
      ],
      "metadata": {
        "id": "DHff2aN3Esg1"
      },
      "execution_count": null,
      "outputs": []
    },
    {
      "cell_type": "code",
      "source": [
        "train_data = Subset(train_dataset, train_idx)\n",
        "valid_data = Subset(train_dataset, valid_idx)\n",
        "\n",
        "train_data_flat = Subset(train_dataset_flattened, train_idx)\n",
        "valid_data_flat = Subset(train_dataset_flattened, valid_idx)"
      ],
      "metadata": {
        "id": "EEgdkq7HuTpG"
      },
      "execution_count": null,
      "outputs": []
    },
    {
      "cell_type": "markdown",
      "source": [
        "### Load Datasets into DataLoaders"
      ],
      "metadata": {
        "id": "7DDltK9WVkBh"
      }
    },
    {
      "cell_type": "markdown",
      "source": [
        "`torch.utils.data.Dataset` and `torch.util.data.DataLoader` are the two primitives used in PyTorch to decouple pre-loaded data and data for model training.\n",
        "\n",
        "Datasets, as we saw above, store inputs and their labels, and its elements can be accessed like with a Python dictionary.\n",
        "\n",
        "DataLoaders, on the other hand, are more useful when training a model.\n",
        "\n",
        "> \"We typically want to pass samples in “minibatches”, reshuffle the data at every epoch to reduce model overfitting, and use Python’s multiprocessing to speed up data retrieval.\n",
        ">\n",
        "> DataLoader is an iterable that abstracts this complexity for us in an easy API.\"\n",
        "\n",
        "Source: [PyTorch data tutorial](https://pytorch.org/tutorials/beginner/basics/data_tutorial.html)\n",
        "\n",
        "One aspect of DataLoaders to keep in mind is the batch size parameter. Batch size can be dependent on dataset and architecture, both in terms of training stability and in terms of memory capacity. A larger batch size results in more stable training since the variance in gradient estimation per batch is reduced. However a larger batch size can cause the GPU to run out of memory.\n",
        "\n",
        "We start experimenting with a batch size that is the length of the entire dataset and update it below for different approaches as needed. Note for our first baseline that no gradients are computed so batch size has no influence on \"convergence speed.\""
      ],
      "metadata": {
        "id": "5kU5ozFPV348"
      }
    },
    {
      "cell_type": "code",
      "source": [
        "train_dataloader = DataLoader(train_data, batch_size=len(train_data), shuffle=True)\n",
        "valid_dataloader = DataLoader(valid_data, batch_size=len(valid_data), shuffle=True)\n",
        "test_dataloader = DataLoader(test_dataset, batch_size=len(test_dataset), shuffle=True)"
      ],
      "metadata": {
        "id": "1VjhFRGaj4Xh"
      },
      "execution_count": null,
      "outputs": []
    },
    {
      "cell_type": "markdown",
      "source": [
        "### Pixel Similarity baseline model"
      ],
      "metadata": {
        "id": "JetgWr0ra9CY"
      }
    },
    {
      "cell_type": "markdown",
      "source": [
        "Our first model takes a non-ML approach in favor of a straightforward elementwise pixel to pixel comparison per image. We compare a sample image to a mean image for each digit. The mean image is computed by averaging over the training examples per digit."
      ],
      "metadata": {
        "id": "UIdL9sbWtuo3"
      }
    },
    {
      "cell_type": "markdown",
      "source": [
        "##### Calculate mean image per digit"
      ],
      "metadata": {
        "id": "ehEnWoS0-wcv"
      }
    },
    {
      "cell_type": "code",
      "source": [
        "train_data_by_digit = {}\n",
        "valid_data_by_digit = {}\n",
        "\n",
        "for i in range(10):\n",
        "  train_data_by_digit[i] = \\\n",
        "    torch.stack([sample[0] for sample in Subset(train_dataset, list(filter(lambda x: x < split_idx, digit_indices[i])))])\n",
        "  valid_data_by_digit[i] = \\\n",
        "    torch.stack([sample[0] for sample in Subset(train_dataset, list(filter(lambda x: x >= split_idx, digit_indices[i])))])"
      ],
      "metadata": {
        "id": "dbqwSboY9-f0"
      },
      "execution_count": null,
      "outputs": []
    },
    {
      "cell_type": "code",
      "source": [
        "digit_means = {y: torch.Tensor() for y in range(10)}\n",
        "for i in range(10):\n",
        "  digit_means[i] = train_data_by_digit[i].mean(axis=0)"
      ],
      "metadata": {
        "id": "wRxwiQsVmLTF"
      },
      "execution_count": null,
      "outputs": []
    },
    {
      "cell_type": "code",
      "source": [
        "for i in range(10):\n",
        "  plt.subplot(2, 5, i + 1)\n",
        "  plt.imshow(torch.squeeze(digit_means[i]), cmap=plt.get_cmap('gray'))\n",
        "plt.show()"
      ],
      "metadata": {
        "colab": {
          "base_uri": "https://localhost:8080/",
          "height": 54
        },
        "id": "lj1-j40s6TFn",
        "outputId": "62245f09-880b-465d-b967-110115f3ff19"
      },
      "execution_count": null,
      "outputs": [
        {
          "output_type": "display_data",
          "data": {
            "text/plain": [
              "<Figure size 640x480 with 10 Axes>"
            ],
            "image/png": "[encoded data removed]"
          },
          "metadata": {}
        }
      ]
    },
    {
      "cell_type": "markdown",
      "source": [
        "##### Make predictions"
      ],
      "metadata": {
        "id": "OXxg4g2J-mrg"
      }
    },
    {
      "cell_type": "code",
      "source": [
        "import torch.nn.functional as F\n",
        "\n",
        "def predict(sample):\n",
        "  # choose the digit whose mean image is closest to the sample\n",
        "  return torch.argmin(torch.tensor([F.l1_loss(sample, torch.squeeze(digit_means[i])) for i in range(10)]))\n",
        "\n",
        "def predict_batch(samples):\n",
        "  return torch.tensor([predict(torch.squeeze(sample)) for sample in samples])"
      ],
      "metadata": {
        "id": "doNJJSJbnHxP"
      },
      "execution_count": null,
      "outputs": []
    },
    {
      "cell_type": "code",
      "source": [
        "preds = torch.empty(0)\n",
        "labels = torch.empty(0)\n",
        "for batch in test_dataloader:\n",
        "  images, ls = batch\n",
        "  preds = torch.cat((preds, predict_batch(images)), dim = 0)\n",
        "  labels = torch.cat((labels, ls), dim = 0)"
      ],
      "metadata": {
        "id": "Nu7tYn4v9K-b"
      },
      "execution_count": null,
      "outputs": []
    },
    {
      "cell_type": "markdown",
      "source": [
        "##### Get prediction accuracy and confusion matrix"
      ],
      "metadata": {
        "id": "7mTXsxZD9Dqe"
      }
    },
    {
      "cell_type": "code",
      "source": [
        "accuracy = torch.sum(torch.eq(labels, preds)) / len(labels)\n",
        "print(accuracy)"
      ],
      "metadata": {
        "colab": {
          "base_uri": "https://localhost:8080/"
        },
        "id": "mNH8MjTWB8jN",
        "outputId": "1f7e50a3-e142-400e-9751-38aad71fd60d"
      },
      "execution_count": null,
      "outputs": [
        {
          "output_type": "stream",
          "name": "stdout",
          "text": [
            "tensor(0.667)\n"
          ]
        }
      ]
    },
    {
      "cell_type": "code",
      "source": [
        "from sklearn.metrics import confusion_matrix\n",
        "import seaborn as sn\n",
        "\n",
        "cf_matrix = confusion_matrix(labels, preds)\n",
        "df_cm = pd.DataFrame(cf_matrix / np.sum(cf_matrix, axis=1)[:, None], index = [i for i in range(10)],\n",
        "                     columns = [i for i in range(10)])\n",
        "\n",
        "plt.figure(figsize = (10,10))\n",
        "sn.heatmap(df_cm, annot=True)\n",
        "plt.show()"
      ],
      "metadata": {
        "colab": {
          "base_uri": "https://localhost:8080/",
          "height": 830
        },
        "id": "8CIqeB8iGBeN",
        "outputId": "68c4e5b2-1cc6-4d0b-e4bf-d441c70718ec"
      },
      "execution_count": null,
      "outputs": [
        {
          "output_type": "display_data",
          "data": {
            "text/plain": [
              "<Figure size 1000x1000 with 2 Axes>"
            ],
            "image/png": "[encoded data removed]"
          },
          "metadata": {}
        }
      ]
    },
    {
      "cell_type": "markdown",
      "source": [
        "I'm surprised by how good this baseline already is, without any ML (>60% classification accuracy), but we can definitely do better."
      ],
      "metadata": {
        "id": "hIc31pBw-faF"
      }
    },
    {
      "cell_type": "markdown",
      "source": [
        "### Learner class from scratch\n",
        "\n",
        "There is a 7 step process for iterating on model weights:\n",
        "\n",
        "1.   Initialize params\n",
        "2.   Calculate predictions\n",
        "3. Calculate the loss\n",
        "4. Calculate the gradients\n",
        "5. Step the parameters\n",
        "6. Repeat the process\n",
        "7. Stop\n",
        "\n",
        "Lets implement a class that does this."
      ],
      "metadata": {
        "id": "aW89c8KDp07y"
      }
    },
    {
      "cell_type": "code",
      "source": [
        "class Learner:\n",
        "  def __init__(self, dataloaders, model, optimizer, loss_func, metric, scheduler=None):\n",
        "    self.dataloaders = dataloaders\n",
        "    self.model = model\n",
        "    self.optimizer = optimizer\n",
        "    self.loss_func = loss_func\n",
        "    self.metric = metric\n",
        "    self.scheduler = scheduler\n",
        "    self.val_losses = []\n",
        "\n",
        "  def fit(self, epochs):\n",
        "    for epoch in range(epochs):\n",
        "      print(\"---- epoch: \", epoch, \"/\", epochs - 1, \" ----\")\n",
        "\n",
        "      self.model.train()\n",
        "      train_loss = 0.\n",
        "      for (train_features, train_labels) in self.dataloaders.train_dl():\n",
        "        preds = self.model(train_features)\n",
        "        loss = self.loss_func(preds, train_labels)\n",
        "        train_loss += loss\n",
        "        loss.backward()\n",
        "        self.optimizer.step()\n",
        "        self.optimizer.zero_grad()\n",
        "        if self.scheduler:\n",
        "          self.scheduler.step()\n",
        "      print(\"avg training loss: \", train_loss / len(self.dataloaders.train_dl()))\n",
        "\n",
        "      self.model.eval()\n",
        "      with torch.no_grad():\n",
        "        # We evaluate on the entire validation dataset\n",
        "        val_preds = []\n",
        "        val_labels = []\n",
        "        for (val_features, val_ls) in self.dataloaders.valid_dl():\n",
        "          val_preds.append(self.model(val_features))\n",
        "          val_labels.append(val_ls)\n",
        "        val_preds = torch.squeeze(torch.stack(val_preds, dim=0))\n",
        "        val_labels = torch.squeeze(torch.stack(val_labels, dim=0))\n",
        "        val_loss = self.loss_func(val_preds, val_labels)\n",
        "        print(\"validation loss: \", val_loss)\n",
        "        print(\"metric: \", self.metric(val_preds, val_labels))\n",
        "\n",
        "        # Early stopping\n",
        "        self.val_losses.append(val_loss)\n",
        "        if len(self.val_losses) > 2 and self.val_losses[-1] > self.val_losses[-2] and self.val_losses[-2] > self.val_losses[-3]:\n",
        "          print(\"stopping condition met\")\n",
        "          break"
      ],
      "metadata": {
        "id": "TMsBUg14JYx3"
      },
      "execution_count": null,
      "outputs": []
    },
    {
      "cell_type": "markdown",
      "source": [
        "We also create a class to group together training and validation datasets that our Learner needs."
      ],
      "metadata": {
        "id": "mgOhtyFq_fNr"
      }
    },
    {
      "cell_type": "code",
      "source": [
        "class DataLoaders:\n",
        "  def __init__(self, train_dataloader, valid_dataloader):\n",
        "    self.train_dataloader = train_dataloader\n",
        "    self.valid_dataloader = valid_dataloader\n",
        "\n",
        "  def train_dl(self):\n",
        "    return self.train_dataloader\n",
        "\n",
        "  def valid_dl(self):\n",
        "    return self.valid_dataloader"
      ],
      "metadata": {
        "id": "Wb3ORrMe9-Kz"
      },
      "execution_count": null,
      "outputs": []
    },
    {
      "cell_type": "markdown",
      "source": [
        "### Train a linear model"
      ],
      "metadata": {
        "id": "PUqOPDAOxYnb"
      }
    },
    {
      "cell_type": "markdown",
      "source": [
        "Now that we have a Learner class, we can train a linear model for sanity checking and to get another baseline. We still need a few concrete components in order to train: an architecture, an optimizer, and a loss function. We also add in a metric to be more human-friendly.\n",
        "\n",
        "Additionally, with a Linear model, we need to work with flattened data. We use the flattened dataset that was prepared above."
      ],
      "metadata": {
        "id": "UV-4brN04_PZ"
      }
    },
    {
      "cell_type": "code",
      "source": [
        "bs = 64\n",
        "lr = 1e-1"
      ],
      "metadata": {
        "id": "NNJnmeEr_SPI"
      },
      "execution_count": null,
      "outputs": []
    },
    {
      "cell_type": "code",
      "source": [
        "train_dataloader = DataLoader(train_data_flat, batch_size=bs, shuffle=True, drop_last=True)\n",
        "valid_dataloader = DataLoader(valid_data_flat, batch_size=len(valid_data), shuffle=True)\n",
        "test_dataloader = DataLoader(test_dataset_flattened, batch_size=len(test_dataset_flattened), shuffle=True)\n",
        "\n",
        "dls = DataLoaders(train_dataloader, valid_dataloader)"
      ],
      "metadata": {
        "id": "tTjmkJGJOJnd"
      },
      "execution_count": null,
      "outputs": []
    },
    {
      "cell_type": "code",
      "source": [
        "model = torch.nn.Linear(28*28,10)\n",
        "optimizer = torch.optim.SGD(model.parameters(), lr=lr)\n",
        "loss_func = torch.nn.CrossEntropyLoss()"
      ],
      "metadata": {
        "id": "BXOdsyIG3KTI"
      },
      "execution_count": null,
      "outputs": []
    },
    {
      "cell_type": "code",
      "source": [
        "def digit_accuracy(preds, labels):\n",
        "  return (torch.argmax(preds, axis=1) == labels).float().mean()"
      ],
      "metadata": {
        "id": "v6wUWqMeTSZt"
      },
      "execution_count": null,
      "outputs": []
    },
    {
      "cell_type": "code",
      "source": [
        "learner = Learner(dls, model, optimizer, loss_func, digit_accuracy)"
      ],
      "metadata": {
        "id": "eEg2z6O496eP"
      },
      "execution_count": null,
      "outputs": []
    },
    {
      "cell_type": "code",
      "source": [
        "learner.fit(1)"
      ],
      "metadata": {
        "colab": {
          "base_uri": "https://localhost:8080/"
        },
        "id": "9dTosBmZ_qu4",
        "outputId": "eb4b50a7-bd3a-4d1e-b00a-c62220d10893"
      },
      "execution_count": null,
      "outputs": [
        {
          "output_type": "stream",
          "name": "stdout",
          "text": [
            "---- epoch:  0 / 0  ----\n",
            "avg training loss:  tensor(0.510, grad_fn=<DivBackward0>)\n",
            "validation loss:  tensor(0.347)\n",
            "metric:  tensor(0.907)\n"
          ]
        }
      ]
    },
    {
      "cell_type": "code",
      "source": [
        "test_feats, test_labels = next(iter(test_dataloader))\n",
        "preds = model(test_feats)\n",
        "print(\"test accuracy: \", digit_accuracy(preds, test_labels))"
      ],
      "metadata": {
        "colab": {
          "base_uri": "https://localhost:8080/"
        },
        "id": "rhLTYY54hXiS",
        "outputId": "f32cff62-2a0f-482c-a818-70aaa844f441"
      },
      "execution_count": null,
      "outputs": [
        {
          "output_type": "stream",
          "name": "stdout",
          "text": [
            "test accuracy:  tensor(0.907)\n"
          ]
        }
      ]
    },
    {
      "cell_type": "markdown",
      "source": [
        "Cool, looks like our linear model has learned something about handwritten digits and has a big improvement over the pixel-wise comparison baseline. But a linear model can only learn so much; a nonlinear model has more wiggle room (pun-intended) to fit the data."
      ],
      "metadata": {
        "id": "eMZ0nGS-_9EN"
      }
    },
    {
      "cell_type": "markdown",
      "source": [
        "### Train a feed-forward model"
      ],
      "metadata": {
        "id": "jJl13J48qgqy"
      }
    },
    {
      "cell_type": "code",
      "source": [
        "ffn_model = torch.nn.Sequential(torch.nn.Linear(28*28, 64),\n",
        "                                torch.nn.ReLU(),\n",
        "                                torch.nn.Linear(64, 10)\n",
        "                               )\n",
        "\n",
        "lr = 1e-1\n",
        "ffn_optimizer = torch.optim.SGD(ffn_model.parameters(), lr=lr)"
      ],
      "metadata": {
        "id": "SNU3s9_zhGSY"
      },
      "execution_count": null,
      "outputs": []
    },
    {
      "cell_type": "code",
      "source": [
        "learner = Learner(dls, ffn_model, ffn_optimizer, loss_func, digit_accuracy)\n",
        "learner.fit(10)"
      ],
      "metadata": {
        "colab": {
          "base_uri": "https://localhost:8080/"
        },
        "id": "8zBJNNXDtFch",
        "outputId": "cfc5186d-7195-4ef7-b615-c76f562cb6fe"
      },
      "execution_count": null,
      "outputs": [
        {
          "output_type": "stream",
          "name": "stdout",
          "text": [
            "---- epoch:  0 / 9  ----\n",
            "avg training loss:  tensor(0.502, grad_fn=<DivBackward0>)\n",
            "validation loss:  tensor(0.286)\n",
            "metric:  tensor(0.915)\n",
            "---- epoch:  1 / 9  ----\n",
            "avg training loss:  tensor(0.263, grad_fn=<DivBackward0>)\n",
            "validation loss:  tensor(0.217)\n",
            "metric:  tensor(0.940)\n",
            "---- epoch:  2 / 9  ----\n",
            "avg training loss:  tensor(0.207, grad_fn=<DivBackward0>)\n",
            "validation loss:  tensor(0.198)\n",
            "metric:  tensor(0.943)\n",
            "---- epoch:  3 / 9  ----\n",
            "avg training loss:  tensor(0.172, grad_fn=<DivBackward0>)\n",
            "validation loss:  tensor(0.161)\n",
            "metric:  tensor(0.954)\n",
            "---- epoch:  4 / 9  ----\n",
            "avg training loss:  tensor(0.148, grad_fn=<DivBackward0>)\n",
            "validation loss:  tensor(0.154)\n",
            "metric:  tensor(0.955)\n",
            "---- epoch:  5 / 9  ----\n",
            "avg training loss:  tensor(0.129, grad_fn=<DivBackward0>)\n",
            "validation loss:  tensor(0.143)\n",
            "metric:  tensor(0.958)\n",
            "---- epoch:  6 / 9  ----\n",
            "avg training loss:  tensor(0.115, grad_fn=<DivBackward0>)\n",
            "validation loss:  tensor(0.128)\n",
            "metric:  tensor(0.962)\n",
            "---- epoch:  7 / 9  ----\n",
            "avg training loss:  tensor(0.104, grad_fn=<DivBackward0>)\n",
            "validation loss:  tensor(0.121)\n",
            "metric:  tensor(0.967)\n",
            "---- epoch:  8 / 9  ----\n",
            "avg training loss:  tensor(0.094, grad_fn=<DivBackward0>)\n",
            "validation loss:  tensor(0.116)\n",
            "metric:  tensor(0.966)\n",
            "---- epoch:  9 / 9  ----\n",
            "avg training loss:  tensor(0.086, grad_fn=<DivBackward0>)\n",
            "validation loss:  tensor(0.110)\n",
            "metric:  tensor(0.967)\n"
          ]
        }
      ]
    },
    {
      "cell_type": "code",
      "source": [
        "test_feats, test_labels = next(iter(test_dataloader))\n",
        "preds = ffn_model(test_feats)\n",
        "print(\"test accuracy: \", digit_accuracy(preds, test_labels))"
      ],
      "metadata": {
        "colab": {
          "base_uri": "https://localhost:8080/"
        },
        "id": "FLnDW3GVxYHl",
        "outputId": "aa530947-ae0d-4023-a771-9f6b34397a68"
      },
      "execution_count": null,
      "outputs": [
        {
          "output_type": "stream",
          "name": "stdout",
          "text": [
            "test accuracy:  tensor(0.969)\n"
          ]
        }
      ]
    },
    {
      "cell_type": "markdown",
      "source": [
        "That's decent accuracy, but we can do better and use fewer parameters by taking advantage of the spatial structure of an image!"
      ],
      "metadata": {
        "id": "LUdKYuDOWcDr"
      }
    },
    {
      "cell_type": "markdown",
      "source": [
        "### Train a CNN"
      ],
      "metadata": {
        "id": "mh4zDhbzqkXY"
      }
    },
    {
      "cell_type": "code",
      "source": [
        "from torch import nn\n",
        "\n",
        "def conv(ni, nf, stride=2, ks=3):\n",
        "  return nn.Conv2d(ni, nf, kernel_size=ks, stride=stride, padding=ks // 2)"
      ],
      "metadata": {
        "id": "9LjDFC-zRdYJ"
      },
      "execution_count": null,
      "outputs": []
    },
    {
      "cell_type": "code",
      "source": [
        "simple_cnn_model = nn.Sequential(\n",
        "        conv(1 ,8, ks=5),        #14x14\n",
        "        nn.ReLU(),\n",
        "        conv(8 ,16),             #7x7\n",
        "        nn.ReLU(),\n",
        "        conv(16,32),             #4x4\n",
        "        nn.ReLU(),\n",
        "        conv(32,64),             #2x2\n",
        "        nn.ReLU(),\n",
        "        conv(64,10),             #1x1\n",
        "        nn.Flatten()\n",
        "        )\n",
        "simple_cnn_optimizer = torch.optim.SGD(simple_cnn_model.parameters(), lr=1e-2)"
      ],
      "metadata": {
        "id": "evCGlwXp7YC5"
      },
      "execution_count": null,
      "outputs": []
    },
    {
      "cell_type": "code",
      "source": [
        "bs = 128 # larger batch size means more stable training, but fewer opportunities to update parameters\n",
        "\n",
        "# Use the unflattened data\n",
        "train_dataloader = DataLoader(train_data, batch_size=bs, shuffle=True)\n",
        "valid_dataloader = DataLoader(valid_data, batch_size=len(valid_data), shuffle=True)\n",
        "test_dataloader = DataLoader(test_dataset, batch_size=len(test_dataset), shuffle=True)\n",
        "\n",
        "dls = DataLoaders(train_dataloader, valid_dataloader)"
      ],
      "metadata": {
        "id": "mko59ARPA51M"
      },
      "execution_count": null,
      "outputs": []
    },
    {
      "cell_type": "code",
      "source": [
        "learner = Learner(dls, simple_cnn_model, simple_cnn_optimizer, torch.nn.CrossEntropyLoss(), digit_accuracy)\n",
        "learner.fit(3)"
      ],
      "metadata": {
        "colab": {
          "base_uri": "https://localhost:8080/"
        },
        "id": "yCcDmeCgR-3t",
        "outputId": "4db0c27f-9d0d-4434-a860-9a2abaac938f"
      },
      "execution_count": null,
      "outputs": [
        {
          "output_type": "stream",
          "name": "stdout",
          "text": [
            "---- epoch:  0 / 2  ----\n",
            "avg training loss:  tensor(2.301, grad_fn=<DivBackward0>)\n",
            "validation loss:  tensor(2.301)\n",
            "metric:  tensor(0.106)\n",
            "---- epoch:  1 / 2  ----\n",
            "avg training loss:  tensor(2.299, grad_fn=<DivBackward0>)\n",
            "validation loss:  tensor(2.299)\n",
            "metric:  tensor(0.106)\n",
            "---- epoch:  2 / 2  ----\n",
            "avg training loss:  tensor(2.297, grad_fn=<DivBackward0>)\n",
            "validation loss:  tensor(2.297)\n",
            "metric:  tensor(0.106)\n"
          ]
        }
      ]
    },
    {
      "cell_type": "markdown",
      "source": [
        "Uh oh...the model doesn't train very well...we're going to need a few tricks."
      ],
      "metadata": {
        "id": "kGlNZQquUCo3"
      }
    },
    {
      "cell_type": "markdown",
      "source": [
        "### Train a performant CNN to achieve high accuracy on MNIST"
      ],
      "metadata": {
        "id": "IFpl_fQ9QFGp"
      }
    },
    {
      "cell_type": "markdown",
      "source": [
        "#### Learning rate scheduling: 1cycle training\n",
        "\n",
        "1cycle LR training allows us to stably use a much higher learning rate than if we had kept a static learning rate through the entire training process. It updates the learning rate after every batch, annealing from some low learning rate up to a maximum learning rate, then back down to a rate much lower than the initial rate.\n",
        "\n"
      ],
      "metadata": {
        "id": "0ab7gnC6qEjJ"
      }
    },
    {
      "cell_type": "code",
      "source": [
        "scheduler = torch.optim.lr_scheduler.OneCycleLR(simple_cnn_optimizer, max_lr=0.06, steps_per_epoch=len(train_dataloader), epochs=10)"
      ],
      "metadata": {
        "id": "T4VE9LoVIwmB"
      },
      "execution_count": null,
      "outputs": []
    },
    {
      "cell_type": "code",
      "source": [
        "learner = Learner(dls, simple_cnn_model, simple_cnn_optimizer, torch.nn.CrossEntropyLoss(), digit_accuracy, scheduler)\n",
        "learner.fit(10)"
      ],
      "metadata": {
        "colab": {
          "base_uri": "https://localhost:8080/"
        },
        "id": "EnTw6gDGAqaX",
        "outputId": "5ea1ca19-92f3-43cd-d1c0-d11eaffc700e"
      },
      "execution_count": null,
      "outputs": [
        {
          "output_type": "stream",
          "name": "stdout",
          "text": [
            "---- epoch:  0 / 9  ----\n",
            "avg training loss:  tensor(1.538, grad_fn=<DivBackward0>)\n",
            "validation loss:  tensor(0.246)\n",
            "metric:  tensor(0.927)\n",
            "---- epoch:  1 / 9  ----\n",
            "avg training loss:  tensor(0.180, grad_fn=<DivBackward0>)\n",
            "validation loss:  tensor(0.127)\n",
            "metric:  tensor(0.961)\n",
            "---- epoch:  2 / 9  ----\n",
            "avg training loss:  tensor(0.106, grad_fn=<DivBackward0>)\n",
            "validation loss:  tensor(0.095)\n",
            "metric:  tensor(0.972)\n",
            "---- epoch:  3 / 9  ----\n",
            "avg training loss:  tensor(0.075, grad_fn=<DivBackward0>)\n",
            "validation loss:  tensor(0.078)\n",
            "metric:  tensor(0.978)\n",
            "---- epoch:  4 / 9  ----\n",
            "avg training loss:  tensor(0.058, grad_fn=<DivBackward0>)\n",
            "validation loss:  tensor(0.073)\n",
            "metric:  tensor(0.979)\n",
            "---- epoch:  5 / 9  ----\n",
            "avg training loss:  tensor(0.043, grad_fn=<DivBackward0>)\n",
            "validation loss:  tensor(0.063)\n",
            "metric:  tensor(0.982)\n",
            "---- epoch:  6 / 9  ----\n",
            "avg training loss:  tensor(0.035, grad_fn=<DivBackward0>)\n",
            "validation loss:  tensor(0.061)\n",
            "metric:  tensor(0.983)\n",
            "---- epoch:  7 / 9  ----\n",
            "avg training loss:  tensor(0.022, grad_fn=<DivBackward0>)\n",
            "validation loss:  tensor(0.058)\n",
            "metric:  tensor(0.985)\n",
            "---- epoch:  8 / 9  ----\n",
            "avg training loss:  tensor(0.013, grad_fn=<DivBackward0>)\n",
            "validation loss:  tensor(0.057)\n",
            "metric:  tensor(0.986)\n",
            "---- epoch:  9 / 9  ----\n",
            "avg training loss:  tensor(0.009, grad_fn=<DivBackward0>)\n",
            "validation loss:  tensor(0.057)\n",
            "metric:  tensor(0.986)\n"
          ]
        }
      ]
    },
    {
      "cell_type": "code",
      "source": [
        "test_feats, test_labels = next(iter(test_dataloader))\n",
        "preds = simple_cnn_model(test_feats)\n",
        "print(\"test accuracy: \", digit_accuracy(preds, test_labels))"
      ],
      "metadata": {
        "colab": {
          "base_uri": "https://localhost:8080/"
        },
        "id": "FyibwX9AtI-Z",
        "outputId": "176c4eba-7469-40d5-ac61-24121083d0fc"
      },
      "execution_count": null,
      "outputs": [
        {
          "output_type": "stream",
          "name": "stdout",
          "text": [
            "test accuracy:  tensor(0.986)\n"
          ]
        }
      ]
    },
    {
      "cell_type": "markdown",
      "source": [
        "We're close to our goal of >99% accuracy, but our metrics show we're plateauing. Let's add another technique in the mix to try to make better use of our neural capacity."
      ],
      "metadata": {
        "id": "gi9yh5KpCTFd"
      }
    },
    {
      "cell_type": "markdown",
      "source": [
        "#### Batch Normalization\n",
        "\n",
        "Batch normalization was invented to address \"internal covariate shift,\" and although the issue being solved is debatable, there's no doubt that batch normalization makes training a CNN much easier. This normalization technique finds a mean and variance for activations in a minibatch, reducing the number of activations that are too large or too small (the exploding/vanishing gradient problem).\n",
        "\n",
        "Whereas a learning rate scheduler warms up to a higher learning rate, with batch norm we can just start off with a high learning rate. We can also acheive even higher accuracy in fewer iterations."
      ],
      "metadata": {
        "id": "LyBQYbGDSdMP"
      }
    },
    {
      "cell_type": "code",
      "source": [
        "cnn_model_with_norm = nn.Sequential(\n",
        "        conv(1 ,8, ks=5),        #14x14\n",
        "        nn.BatchNorm2d(8),\n",
        "        nn.ReLU(),\n",
        "        conv(8 ,16),             #7x7\n",
        "        nn.BatchNorm2d(16),\n",
        "        nn.ReLU(),\n",
        "        conv(16,32),             #4x4\n",
        "        nn.BatchNorm2d(32),\n",
        "        nn.ReLU(),\n",
        "        conv(32,64),             #2x2\n",
        "        nn.BatchNorm2d(64),\n",
        "        nn.ReLU(),\n",
        "        conv(64,10),             #1x1\n",
        "        nn.BatchNorm2d(10),\n",
        "        nn.Flatten()\n",
        "        )\n",
        "optimizer = torch.optim.SGD(cnn_model_with_norm.parameters(), lr=1e-2)\n",
        "scheduler = torch.optim.lr_scheduler.OneCycleLR(optimizer, max_lr=0.1, steps_per_epoch=len(train_dataloader), epochs=10)\n",
        "learner = Learner(dls, cnn_model_with_norm, optimizer, loss_func, digit_accuracy, scheduler)\n",
        "learner.fit(10)"
      ],
      "metadata": {
        "colab": {
          "base_uri": "https://localhost:8080/"
        },
        "id": "YdmQTD4MyKy6",
        "outputId": "6f3a8ef3-41a1-456d-d500-fc514f422c55"
      },
      "execution_count": null,
      "outputs": [
        {
          "output_type": "stream",
          "name": "stdout",
          "text": [
            "---- epoch:  0 / 9  ----\n",
            "avg training loss:  tensor(0.335, grad_fn=<DivBackward0>)\n",
            "validation loss:  tensor(0.097)\n",
            "metric:  tensor(0.976)\n",
            "---- epoch:  1 / 9  ----\n",
            "avg training loss:  tensor(0.086, grad_fn=<DivBackward0>)\n",
            "validation loss:  tensor(0.079)\n",
            "metric:  tensor(0.976)\n",
            "---- epoch:  2 / 9  ----\n",
            "avg training loss:  tensor(0.060, grad_fn=<DivBackward0>)\n",
            "validation loss:  tensor(0.050)\n",
            "metric:  tensor(0.986)\n",
            "---- epoch:  3 / 9  ----\n",
            "avg training loss:  tensor(0.042, grad_fn=<DivBackward0>)\n",
            "validation loss:  tensor(0.043)\n",
            "metric:  tensor(0.988)\n",
            "---- epoch:  4 / 9  ----\n",
            "avg training loss:  tensor(0.033, grad_fn=<DivBackward0>)\n",
            "validation loss:  tensor(0.040)\n",
            "metric:  tensor(0.989)\n",
            "---- epoch:  5 / 9  ----\n",
            "avg training loss:  tensor(0.026, grad_fn=<DivBackward0>)\n",
            "validation loss:  tensor(0.044)\n",
            "metric:  tensor(0.988)\n",
            "---- epoch:  6 / 9  ----\n",
            "avg training loss:  tensor(0.018, grad_fn=<DivBackward0>)\n",
            "validation loss:  tensor(0.033)\n",
            "metric:  tensor(0.991)\n",
            "---- epoch:  7 / 9  ----\n",
            "avg training loss:  tensor(0.012, grad_fn=<DivBackward0>)\n",
            "validation loss:  tensor(0.030)\n",
            "metric:  tensor(0.992)\n",
            "---- epoch:  8 / 9  ----\n",
            "avg training loss:  tensor(0.008, grad_fn=<DivBackward0>)\n",
            "validation loss:  tensor(0.029)\n",
            "metric:  tensor(0.993)\n",
            "---- epoch:  9 / 9  ----\n",
            "avg training loss:  tensor(0.006, grad_fn=<DivBackward0>)\n",
            "validation loss:  tensor(0.029)\n",
            "metric:  tensor(0.992)\n"
          ]
        }
      ]
    },
    {
      "cell_type": "code",
      "source": [
        "test_feats, test_labels = next(iter(test_dataloader))\n",
        "preds = cnn_model_with_norm(test_feats)\n",
        "print(\"test accuracy: \", digit_accuracy(preds, test_labels))"
      ],
      "metadata": {
        "colab": {
          "base_uri": "https://localhost:8080/"
        },
        "id": "7R6FFowd1wnW",
        "outputId": "e38f2a51-62a0-48bb-d1f3-ce139424c612"
      },
      "execution_count": null,
      "outputs": [
        {
          "output_type": "stream",
          "name": "stdout",
          "text": [
            "test accuracy:  tensor(0.992)\n"
          ]
        }
      ]
    },
    {
      "cell_type": "markdown",
      "source": [
        "That's pretty good classification accuracy! Lets look at a few examples for ourselves and see our classification accuracy with our own eyes."
      ],
      "metadata": {
        "id": "yTdAC97CTClo"
      }
    },
    {
      "cell_type": "code",
      "source": [
        "for i in range(10):\n",
        "  plt.subplot(2, 5, i + 1)\n",
        "  plt.title(torch.argmax(preds[i]))\n",
        "  plt.imshow(torch.squeeze(test_feats[i]), cmap=plt.get_cmap('gray'))\n",
        "plt.show()"
      ],
      "metadata": {
        "id": "Uj7cxOnjtSGU",
        "colab": {
          "base_uri": "https://localhost:8080/",
          "height": 370
        },
        "outputId": "2a9670f3-2e60-47ff-e75e-998b06e93310"
      },
      "execution_count": null,
      "outputs": [
        {
          "output_type": "display_data",
          "data": {
            "text/plain": [
              "<Figure size 640x480 with 10 Axes>"
            ],
            "image/png": "[encoded data removed]"
          },
          "metadata": {}
        }
      ]
    },
    {
      "cell_type": "markdown",
      "source": [
        "Awesome! Looks like we're able to recognize handwritten digits pretty well. On to something more challenging..."
      ],
      "metadata": {
        "id": "1iUELcl3BVtw"
      }
    }
  ]
}